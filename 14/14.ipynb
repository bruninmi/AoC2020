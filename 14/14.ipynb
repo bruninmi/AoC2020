{
 "cells": [
  {
   "cell_type": "code",
   "execution_count": 1,
   "metadata": {},
   "outputs": [],
   "source": [
    "# Read file\n",
    "import time\n",
    "\n",
    "def read_file(filename):\n",
    "    with open(filename) as infile:\n",
    "        lines = [line.strip() for line in infile.readlines()]\n",
    "    return lines"
   ]
  },
  {
   "cell_type": "code",
   "execution_count": 2,
   "metadata": {},
   "outputs": [],
   "source": [
    "# Part 1\n",
    "def split_mask(mask):\n",
    "    val = 1\n",
    "    pos = 0\n",
    "    neg = 0\n",
    "    for c in reversed(mask):\n",
    "        if c == 'X':\n",
    "            pos |= val\n",
    "        elif int(c):\n",
    "            pos |= val\n",
    "            neg |= val\n",
    "        val *= 2\n",
    "    return pos, neg\n",
    "\n",
    "def apply_mask(value, pos, neg):\n",
    "    return (value & pos) | neg\n",
    "\n",
    "def process(lines):\n",
    "    mem = {}\n",
    "    mask = (0, 0)\n",
    "    for line in lines:\n",
    "        k, v = line.split(' = ')\n",
    "        if k == 'mask':\n",
    "            mask = split_mask(v)\n",
    "        else:\n",
    "            mem[int(k[4:-1])] = apply_mask(int(v), *mask)\n",
    "    return mem"
   ]
  },
  {
   "cell_type": "code",
   "execution_count": 3,
   "metadata": {},
   "outputs": [
    {
     "name": "stdout",
     "output_type": "stream",
     "text": [
      "True\n"
     ]
    },
    {
     "data": {
      "text/plain": [
       "0.0"
      ]
     },
     "execution_count": 3,
     "metadata": {},
     "output_type": "execute_result"
    }
   ],
   "source": [
    "# Test part 1\n",
    "start = time.time()\n",
    "print(sum(process(read_file(\"test01.txt\")).values()) == 165)\n",
    "time.time() - start"
   ]
  },
  {
   "cell_type": "code",
   "execution_count": 4,
   "metadata": {},
   "outputs": [
    {
     "name": "stdout",
     "output_type": "stream",
     "text": [
      "11327140210986\n"
     ]
    },
    {
     "data": {
      "text/plain": [
       "0.0"
      ]
     },
     "execution_count": 4,
     "metadata": {},
     "output_type": "execute_result"
    }
   ],
   "source": [
    "# Solve part 1\n",
    "start = time.time()\n",
    "print(sum(process(read_file(\"input.txt\")).values()))\n",
    "time.time() - start"
   ]
  },
  {
   "cell_type": "code",
   "execution_count": 5,
   "metadata": {},
   "outputs": [],
   "source": [
    "# Part 2\n",
    "def decode_address(mask, address):\n",
    "    decoded = list(mask)\n",
    "    val = 1\n",
    "    for i in range(len(mask) - 1, -1, -1):\n",
    "        if mask[i] == '0' and (address & val):\n",
    "            decoded[i] = '1'\n",
    "        val *= 2\n",
    "    return decoded\n",
    "\n",
    "def collision(a, b):\n",
    "    for i in range(len(a)):\n",
    "        if a[i] != 'X' and b[i] != 'X' and a[i] != b[i]:\n",
    "            return False\n",
    "    return True\n",
    "\n",
    "def remainder(old, new):\n",
    "    remains = []\n",
    "    alt = old[:]\n",
    "    for i in range(len(alt)):\n",
    "        if alt[i] == 'X' and new[i] != 'X':\n",
    "            alt[i] = '1' if new[i] == '0' else '0'\n",
    "            remains.append(alt[:])\n",
    "            alt[i] = '1' if alt[i] == '0' else '0'\n",
    "    return remains\n",
    "\n",
    "def process2(lines):\n",
    "    mem = []\n",
    "    mask = \"\"\n",
    "    for line in lines:\n",
    "        k, v = line.split(' = ')\n",
    "        if k == 'mask':\n",
    "            mask = v\n",
    "        else:\n",
    "            newaddr = decode_address(mask, int(k[4:-1]))\n",
    "            newmem = []\n",
    "            for (addr, val) in mem:\n",
    "                if collision(addr, newaddr):\n",
    "                    rem = remainder(addr, newaddr)\n",
    "                    newmem += list(zip(rem, [val] * len(rem)))\n",
    "                else:\n",
    "                    newmem.append((addr, val))\n",
    "            newmem.append((newaddr, int(v)))\n",
    "            mem = newmem\n",
    "    return mem\n",
    "\n",
    "def sum_mem(mem):\n",
    "    tot = 0\n",
    "    for (k, v) in mem:\n",
    "        tot += v * 2 ** k.count('X')\n",
    "    return tot"
   ]
  },
  {
   "cell_type": "code",
   "execution_count": 6,
   "metadata": {},
   "outputs": [
    {
     "name": "stdout",
     "output_type": "stream",
     "text": [
      "True\n"
     ]
    },
    {
     "data": {
      "text/plain": [
       "0.0"
      ]
     },
     "execution_count": 6,
     "metadata": {},
     "output_type": "execute_result"
    }
   ],
   "source": [
    "# Test part 2\n",
    "start = time.time()\n",
    "print(sum_mem(process2(read_file(\"test02.txt\"))) == 208)\n",
    "time.time() - start"
   ]
  },
  {
   "cell_type": "code",
   "execution_count": 7,
   "metadata": {},
   "outputs": [
    {
     "name": "stdout",
     "output_type": "stream",
     "text": [
      "2308180581795\n"
     ]
    },
    {
     "data": {
      "text/plain": [
       "0.20003938674926758"
      ]
     },
     "execution_count": 7,
     "metadata": {},
     "output_type": "execute_result"
    }
   ],
   "source": [
    "# Solve part 2\n",
    "start = time.time()\n",
    "print(sum_mem(process2(read_file(\"input.txt\"))))\n",
    "time.time() - start"
   ]
  }
 ],
 "metadata": {
  "kernelspec": {
   "display_name": "Python 3",
   "language": "python",
   "name": "python3"
  },
  "language_info": {
   "codemirror_mode": {
    "name": "ipython",
    "version": 3
   },
   "file_extension": ".py",
   "mimetype": "text/x-python",
   "name": "python",
   "nbconvert_exporter": "python",
   "pygments_lexer": "ipython3",
   "version": "3.7.3"
  }
 },
 "nbformat": 4,
 "nbformat_minor": 2
}
