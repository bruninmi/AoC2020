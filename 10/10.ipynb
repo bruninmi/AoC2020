{
 "cells": [
  {
   "cell_type": "code",
   "execution_count": 1,
   "metadata": {},
   "outputs": [],
   "source": [
    "# Read file\n",
    "def read_file(filename):\n",
    "    with open(filename) as infile:\n",
    "        lines = [int(line.strip()) for line in infile.readlines()]\n",
    "    return lines"
   ]
  },
  {
   "cell_type": "code",
   "execution_count": 2,
   "metadata": {},
   "outputs": [],
   "source": [
    "# Part 1\n",
    "import collections\n",
    "\n",
    "def joltage_jumps(numbers):\n",
    "    s = sorted(numbers)\n",
    "    s.insert(0, 0)\n",
    "    s.append(s[-1] + 3)\n",
    "    return [y-x for (x,y) in zip(s[:-1], s[1:])]"
   ]
  },
  {
   "cell_type": "code",
   "execution_count": 3,
   "metadata": {},
   "outputs": [
    {
     "data": {
      "text/plain": [
       "True"
      ]
     },
     "execution_count": 3,
     "metadata": {},
     "output_type": "execute_result"
    }
   ],
   "source": [
    "# Test part 1\n",
    "test1 = collections.Counter(joltage_jumps(read_file(\"test01.txt\")))\n",
    "test2 = collections.Counter(joltage_jumps(read_file(\"test02.txt\")))\n",
    "(test1[1], test1[3]) == (7, 5) and \\\n",
    "(test2[1], test2[3]) == (22, 10)"
   ]
  },
  {
   "cell_type": "code",
   "execution_count": 4,
   "metadata": {},
   "outputs": [
    {
     "data": {
      "text/plain": [
       "2080"
      ]
     },
     "execution_count": 4,
     "metadata": {},
     "output_type": "execute_result"
    }
   ],
   "source": [
    "# Solve part 1\n",
    "part1 = collections.Counter(joltage_jumps(read_file(\"input.txt\")))\n",
    "part1[1] * part1[3]"
   ]
  },
  {
   "cell_type": "code",
   "execution_count": 5,
   "metadata": {},
   "outputs": [],
   "source": [
    "# Part 2\n",
    "def combinations(jumps, i=0, memo=None):\n",
    "    if memo == None:\n",
    "        memo = {}\n",
    "    if i in memo:\n",
    "        return memo[i]\n",
    "    if len(jumps) - i <= 1:\n",
    "        return 1\n",
    "    memo[i] = combinations(jumps, i+1, memo)\n",
    "    if jumps[i:i+2] in [[2, 1], [1, 2], [1, 1]]:\n",
    "        memo[i] += combinations(jumps, i+2, memo)\n",
    "    if jumps[i:i+3] == [1, 1, 1]:\n",
    "        memo[i] += combinations(jumps, i+3, memo)\n",
    "    return memo[i]"
   ]
  },
  {
   "cell_type": "code",
   "execution_count": 6,
   "metadata": {},
   "outputs": [
    {
     "data": {
      "text/plain": [
       "True"
      ]
     },
     "execution_count": 6,
     "metadata": {},
     "output_type": "execute_result"
    }
   ],
   "source": [
    "# Test part 2\n",
    "combinations(joltage_jumps(read_file(\"test01.txt\"))) == 8 and \\\n",
    "combinations(joltage_jumps(read_file(\"test02.txt\"))) == 19208"
   ]
  },
  {
   "cell_type": "code",
   "execution_count": 7,
   "metadata": {},
   "outputs": [
    {
     "data": {
      "text/plain": [
       "6908379398144"
      ]
     },
     "execution_count": 7,
     "metadata": {},
     "output_type": "execute_result"
    }
   ],
   "source": [
    "# Solve part 2\n",
    "combinations(joltage_jumps(read_file(\"input.txt\")))"
   ]
  }
 ],
 "metadata": {
  "kernelspec": {
   "display_name": "Python 3",
   "language": "python",
   "name": "python3"
  },
  "language_info": {
   "codemirror_mode": {
    "name": "ipython",
    "version": 3
   },
   "file_extension": ".py",
   "mimetype": "text/x-python",
   "name": "python",
   "nbconvert_exporter": "python",
   "pygments_lexer": "ipython3",
   "version": "3.7.3"
  }
 },
 "nbformat": 4,
 "nbformat_minor": 2
}
