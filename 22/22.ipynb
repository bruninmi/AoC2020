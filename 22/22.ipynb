{
 "cells": [
  {
   "cell_type": "code",
   "execution_count": 1,
   "metadata": {},
   "outputs": [],
   "source": [
    "# Imports & read file\n",
    "import time\n",
    "import itertools\n",
    "\n",
    "def read_file(filename):\n",
    "    with open(filename) as infile:\n",
    "        return [[int(i) for i in list(g)[1:]] for k, g in itertools.groupby((line.strip() for line in infile.readlines()), lambda x: bool(x)) if k]\n",
    "    return None"
   ]
  },
  {
   "cell_type": "code",
   "execution_count": 2,
   "metadata": {},
   "outputs": [],
   "source": [
    "# Part 1\n",
    "def combat(p1, p2):\n",
    "    while p1 and p2:\n",
    "        c1, c2 = p1.pop(0), p2.pop(0)\n",
    "        if c1 > c2:\n",
    "            p1 += [c1, c2]\n",
    "        else:\n",
    "            p2 += [c2, c1]\n",
    "    if p1:\n",
    "        return p1\n",
    "    return p2\n",
    "\n",
    "def score(deck):\n",
    "    return sum((len(deck) - i) * deck[i] for i in range(len(deck)))"
   ]
  },
  {
   "cell_type": "code",
   "execution_count": 3,
   "metadata": {},
   "outputs": [
    {
     "name": "stdout",
     "output_type": "stream",
     "text": [
      "True\n"
     ]
    },
    {
     "data": {
      "text/plain": [
       "0.0"
      ]
     },
     "execution_count": 3,
     "metadata": {},
     "output_type": "execute_result"
    }
   ],
   "source": [
    "# Test part 1\n",
    "start = time.time()\n",
    "print(score(combat(*read_file(\"test01.txt\"))) == 306)\n",
    "time.time() - start"
   ]
  },
  {
   "cell_type": "code",
   "execution_count": 4,
   "metadata": {},
   "outputs": [
    {
     "name": "stdout",
     "output_type": "stream",
     "text": [
      "32401\n"
     ]
    },
    {
     "data": {
      "text/plain": [
       "0.00099945068359375"
      ]
     },
     "execution_count": 4,
     "metadata": {},
     "output_type": "execute_result"
    }
   ],
   "source": [
    "# Solve part 1\n",
    "start = time.time()\n",
    "print(score(combat(*read_file(\"input.txt\"))))\n",
    "time.time() - start"
   ]
  },
  {
   "cell_type": "code",
   "execution_count": 5,
   "metadata": {},
   "outputs": [],
   "source": [
    "# Part 2\n",
    "def recursive_combat(p1, p2, memo=None):\n",
    "    if max(p2) < max(p1) > len(p1) + len(p2):\n",
    "        return True, 0\n",
    "    if memo == None:\n",
    "        memo = {}\n",
    "    history = set()\n",
    "    while p1 and p2:\n",
    "        key = (tuple(p1), tuple(p2))\n",
    "        if key in memo:\n",
    "            return memo[key], 0\n",
    "        if key in history:\n",
    "            break\n",
    "        history.add(key)\n",
    "        c1, c2 = p1.pop(0), p2.pop(0)\n",
    "        if (c1 <= len(p1)) and (c2 <= len(p2)):\n",
    "            if recursive_combat(p1[:c1], p2[:c2], memo)[0]:\n",
    "                p1 += [c1, c2]\n",
    "            else:\n",
    "                p2 += [c2, c1]\n",
    "        else:\n",
    "            if c1 > c2:\n",
    "                p1 += [c1, c2]\n",
    "            else:\n",
    "                p2 += [c2, c1]\n",
    "    if p1:\n",
    "        result = True\n",
    "    else:\n",
    "        result = False\n",
    "    for key in history:\n",
    "        memo[key] = result\n",
    "    return result, p1 if result else p2"
   ]
  },
  {
   "cell_type": "code",
   "execution_count": 6,
   "metadata": {},
   "outputs": [
    {
     "name": "stdout",
     "output_type": "stream",
     "text": [
      "True\n"
     ]
    },
    {
     "data": {
      "text/plain": [
       "0.0"
      ]
     },
     "execution_count": 6,
     "metadata": {},
     "output_type": "execute_result"
    }
   ],
   "source": [
    "# Test part 2\n",
    "start = time.time()\n",
    "print(score(recursive_combat(*read_file(\"test01.txt\"))[1]) == 291)\n",
    "time.time() - start"
   ]
  },
  {
   "cell_type": "code",
   "execution_count": 7,
   "metadata": {
    "scrolled": false
   },
   "outputs": [
    {
     "name": "stdout",
     "output_type": "stream",
     "text": [
      "31436\n"
     ]
    },
    {
     "data": {
      "text/plain": [
       "1.5289654731750488"
      ]
     },
     "execution_count": 7,
     "metadata": {},
     "output_type": "execute_result"
    }
   ],
   "source": [
    "# Solve part 2\n",
    "start = time.time()\n",
    "print(score(recursive_combat(*read_file(\"input.txt\"))[1]))\n",
    "time.time() - start"
   ]
  }
 ],
 "metadata": {
  "kernelspec": {
   "display_name": "Python 3",
   "language": "python",
   "name": "python3"
  },
  "language_info": {
   "codemirror_mode": {
    "name": "ipython",
    "version": 3
   },
   "file_extension": ".py",
   "mimetype": "text/x-python",
   "name": "python",
   "nbconvert_exporter": "python",
   "pygments_lexer": "ipython3",
   "version": "3.6.2"
  }
 },
 "nbformat": 4,
 "nbformat_minor": 2
}
