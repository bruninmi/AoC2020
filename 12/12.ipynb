{
 "cells": [
  {
   "cell_type": "code",
   "execution_count": 1,
   "metadata": {
    "collapsed": true
   },
   "outputs": [],
   "source": [
    "# Read file\n",
    "import time\n",
    "\n",
    "def read_file(filename):\n",
    "    with open(filename) as infile:\n",
    "        lines = [line.strip() for line in infile.readlines()]\n",
    "    return lines"
   ]
  },
  {
   "cell_type": "code",
   "execution_count": 2,
   "metadata": {
    "collapsed": true
   },
   "outputs": [],
   "source": [
    "# Part 1\n",
    "def follow(route):\n",
    "    compass = ['N', 'E', 'S', 'W']\n",
    "    facing = 1\n",
    "    moved = {d: 0 for d in compass}\n",
    "    for step in route:\n",
    "        if step[0] in compass:\n",
    "            moved[step[0]] += int(step[1:])\n",
    "        elif step[0] == 'L':\n",
    "            facing = (facing - int(step[1:]) // 90) % 4\n",
    "        elif step[0] == 'R':\n",
    "            facing = (facing + int(step[1:]) // 90) % 4\n",
    "        elif step[0] == 'F':\n",
    "            moved[compass[facing]] += int(step[1:])\n",
    "        else:\n",
    "            return None\n",
    "    return moved"
   ]
  },
  {
   "cell_type": "code",
   "execution_count": 3,
   "metadata": {},
   "outputs": [
    {
     "name": "stdout",
     "output_type": "stream",
     "text": [
      "True\n"
     ]
    },
    {
     "data": {
      "text/plain": [
       "0.0010008811950683594"
      ]
     },
     "execution_count": 3,
     "metadata": {},
     "output_type": "execute_result"
    }
   ],
   "source": [
    "# Test part 1\n",
    "start = time.time()\n",
    "m = follow(read_file(\"test01.txt\"))\n",
    "print(abs(m['N'] - m['S']) + abs(m['E'] - m['W']) == 25)\n",
    "time.time() - start"
   ]
  },
  {
   "cell_type": "code",
   "execution_count": 4,
   "metadata": {},
   "outputs": [
    {
     "name": "stdout",
     "output_type": "stream",
     "text": [
      "582\n"
     ]
    },
    {
     "data": {
      "text/plain": [
       "0.0010006427764892578"
      ]
     },
     "execution_count": 4,
     "metadata": {},
     "output_type": "execute_result"
    }
   ],
   "source": [
    "# Solve part 1\n",
    "start = time.time()\n",
    "m = follow(read_file(\"input.txt\"))\n",
    "print(abs(m['N'] - m['S']) + abs(m['E'] - m['W']))\n",
    "time.time() - start"
   ]
  },
  {
   "cell_type": "code",
   "execution_count": 5,
   "metadata": {
    "collapsed": true
   },
   "outputs": [],
   "source": [
    "# Part 2\n",
    "def waypoint(route):\n",
    "    t_x = 0\n",
    "    t_y = 0\n",
    "    x = 10\n",
    "    y = 1\n",
    "    for step in route:\n",
    "        if step[0] == 'N':\n",
    "            y += int(step[1:])\n",
    "        elif step[0] == 'E':\n",
    "            x += int(step[1:])\n",
    "        elif step[0] == 'S':\n",
    "            y -= int(step[1:])\n",
    "        elif step[0] == 'W':\n",
    "            x -= int(step[1:])\n",
    "        elif step[0] == 'L':\n",
    "            for i in range(int(step[1:]) // 90):\n",
    "                x, y = -y, x\n",
    "        elif step[0] == 'R':\n",
    "            for i in range(int(step[1:]) // 90):\n",
    "                x, y = y, -x\n",
    "        elif step[0] == 'F':\n",
    "            t_x += int(step[1:]) * x\n",
    "            t_y += int(step[1:]) * y\n",
    "        else:\n",
    "            return None\n",
    "    return abs(t_x) + abs(t_y)"
   ]
  },
  {
   "cell_type": "code",
   "execution_count": 6,
   "metadata": {},
   "outputs": [
    {
     "name": "stdout",
     "output_type": "stream",
     "text": [
      "True\n"
     ]
    },
    {
     "data": {
      "text/plain": [
       "0.0"
      ]
     },
     "execution_count": 6,
     "metadata": {},
     "output_type": "execute_result"
    }
   ],
   "source": [
    "# Test part 2\n",
    "start = time.time()\n",
    "print(waypoint(read_file(\"test01.txt\")) == 286)\n",
    "time.time() - start"
   ]
  },
  {
   "cell_type": "code",
   "execution_count": 7,
   "metadata": {},
   "outputs": [
    {
     "name": "stdout",
     "output_type": "stream",
     "text": [
      "52069\n"
     ]
    },
    {
     "data": {
      "text/plain": [
       "0.0009999275207519531"
      ]
     },
     "execution_count": 7,
     "metadata": {},
     "output_type": "execute_result"
    }
   ],
   "source": [
    "# Solve part 2\n",
    "start = time.time()\n",
    "print(waypoint(read_file(\"input.txt\")))\n",
    "time.time() - start"
   ]
  }
 ],
 "metadata": {
  "kernelspec": {
   "display_name": "Python 3",
   "language": "python",
   "name": "python3"
  },
  "language_info": {
   "codemirror_mode": {
    "name": "ipython",
    "version": 3
   },
   "file_extension": ".py",
   "mimetype": "text/x-python",
   "name": "python",
   "nbconvert_exporter": "python",
   "pygments_lexer": "ipython3",
   "version": "3.6.2"
  }
 },
 "nbformat": 4,
 "nbformat_minor": 2
}
