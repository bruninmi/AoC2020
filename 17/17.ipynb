{
 "cells": [
  {
   "cell_type": "code",
   "execution_count": 1,
   "metadata": {},
   "outputs": [],
   "source": [
    "# Imports & read file\n",
    "import time\n",
    "import itertools\n",
    "\n",
    "def read_file(filename):\n",
    "    with open(filename) as infile:\n",
    "        lines = [line.strip() for line in infile.readlines()]\n",
    "    space = {(x,y,0) for y in range(len(lines)) for x in range(len(lines[y])) if lines[y][x] == '#'}\n",
    "    return space"
   ]
  },
  {
   "cell_type": "code",
   "execution_count": 2,
   "metadata": {},
   "outputs": [],
   "source": [
    "# Part 1\n",
    "def neighbors(x, y, z):\n",
    "    r = [-1, 0, 1]\n",
    "    return {(x+a,y+b,z+c) for a in r for b in r for c in r if not a == b == c == 0}\n",
    "\n",
    "def cycle(space, cycles=6):\n",
    "    nbs = {c: neighbors(*c) for c in space}\n",
    "    check = space | set.union(*nbs.values())\n",
    "    for i in range(cycles):\n",
    "        for c in check:\n",
    "            if c not in nbs:\n",
    "                nbs[c] = neighbors(*c)\n",
    "        space = {c for c in check if (len(nbs[c] & space) == 3) or (c in space and len(nbs[c] & space) == 2)}\n",
    "        check = space | {n for c in space for n in nbs[c]}\n",
    "    return space\n",
    "\n",
    "def print_space(space):\n",
    "    z_space = {z for (x,y,z) in space}\n",
    "    z_min, z_max = min(z_space), max(z_space) + 1\n",
    "    y_space = {y for (x,y,z) in space}\n",
    "    y_min, y_max = min(y_space), max(y_space) + 1\n",
    "    x_space = {x for (x,y,z) in space}\n",
    "    x_min, x_max = min(x_space), max(x_space) + 1\n",
    "    for z in range(z_min, z_max):\n",
    "        print(\"z=\"+str(z))\n",
    "        for y in range(y_min, y_max):\n",
    "            print(''.join('#' if (x,y,z) in space else '.' for x in range(x_min, x_max)))\n",
    "        print()"
   ]
  },
  {
   "cell_type": "code",
   "execution_count": 3,
   "metadata": {},
   "outputs": [
    {
     "name": "stdout",
     "output_type": "stream",
     "text": [
      "True\n"
     ]
    },
    {
     "data": {
      "text/plain": [
       "0.016699552536010742"
      ]
     },
     "execution_count": 3,
     "metadata": {},
     "output_type": "execute_result"
    }
   ],
   "source": [
    "# Test part 1\n",
    "start = time.time()\n",
    "print(len(cycle(read_file(\"test01.txt\"))) == 112)\n",
    "time.time() - start"
   ]
  },
  {
   "cell_type": "code",
   "execution_count": 4,
   "metadata": {},
   "outputs": [
    {
     "name": "stdout",
     "output_type": "stream",
     "text": [
      "362\n"
     ]
    },
    {
     "data": {
      "text/plain": [
       "0.03318643569946289"
      ]
     },
     "execution_count": 4,
     "metadata": {},
     "output_type": "execute_result"
    }
   ],
   "source": [
    "# Solve part 1\n",
    "start = time.time()\n",
    "print(len(cycle(read_file(\"input.txt\"))))\n",
    "time.time() - start"
   ]
  },
  {
   "cell_type": "code",
   "execution_count": 5,
   "metadata": {},
   "outputs": [],
   "source": [
    "# Part 2\n",
    "def read_file_4d(filename):\n",
    "    with open(filename) as infile:\n",
    "        lines = [line.strip() for line in infile.readlines()]\n",
    "    space = {(x,y,0,0) for y in range(len(lines)) for x in range(len(lines[y])) if lines[y][x] == '#'}\n",
    "    return space\n",
    "\n",
    "adj_4d = set(itertools.product([-1, 0, 1], repeat=4)) - {(0,0,0,0)}\n",
    "def neighbors_4d(x, y, z, w):\n",
    "    return {(x+a,y+b,z+c,w+d) for (a,b,c,d) in adj_4d}\n",
    "\n",
    "def cycle_4d(space, cycles=6):\n",
    "    nbs = {c: neighbors_4d(*c) for c in space}\n",
    "    for i in range(cycles):\n",
    "        nbc = {}\n",
    "        for c in space:\n",
    "            if c not in nbs:\n",
    "                nbs[c] = neighbors_4d(*c)\n",
    "            for nb in nbs[c]:\n",
    "                nbc[nb] = nbc.get(nb, 0) + 1\n",
    "        space = {c for c,n in nbc.items() if (n == 3) or (n == 2 and c in space)}\n",
    "    return space\n",
    "\n",
    "def print_space_4d(space):\n",
    "    w_space = {w for (x,y,z,w) in space}\n",
    "    w_min, w_max = min(w_space), max(w_space) + 1\n",
    "    z_space = {z for (x,y,z,w) in space}\n",
    "    z_min, z_max = min(z_space), max(z_space) + 1\n",
    "    y_space = {y for (x,y,z,w) in space}\n",
    "    y_min, y_max = min(y_space), max(y_space) + 1\n",
    "    x_space = {x for (x,y,z,w) in space}\n",
    "    x_min, x_max = min(x_space), max(x_space) + 1\n",
    "    for w in range(w_min, w_max):\n",
    "        for z in range(z_min, z_max):\n",
    "            print(\"z=\"+str(z)+\", w=\"+str(w))\n",
    "            for y in range(y_min, y_max):\n",
    "                print(''.join('#' if (x,y,z,w) in space else '.' for x in range(x_min, x_max)))\n",
    "            print()"
   ]
  },
  {
   "cell_type": "code",
   "execution_count": 6,
   "metadata": {},
   "outputs": [
    {
     "name": "stdout",
     "output_type": "stream",
     "text": [
      "True\n"
     ]
    },
    {
     "data": {
      "text/plain": [
       "0.11667847633361816"
      ]
     },
     "execution_count": 6,
     "metadata": {},
     "output_type": "execute_result"
    }
   ],
   "source": [
    "# Test part 2\n",
    "start = time.time()\n",
    "print(len(cycle_4d(read_file_4d(\"test01.txt\"))) == 848)\n",
    "time.time() - start"
   ]
  },
  {
   "cell_type": "code",
   "execution_count": 7,
   "metadata": {},
   "outputs": [
    {
     "name": "stdout",
     "output_type": "stream",
     "text": [
      "1980\n"
     ]
    },
    {
     "data": {
      "text/plain": [
       "0.16673493385314941"
      ]
     },
     "execution_count": 7,
     "metadata": {},
     "output_type": "execute_result"
    }
   ],
   "source": [
    "# Solve part 2\n",
    "start = time.time()\n",
    "print(len(cycle_4d(read_file_4d(\"input.txt\"))))\n",
    "time.time() - start"
   ]
  }
 ],
 "metadata": {
  "kernelspec": {
   "display_name": "Python 3",
   "language": "python",
   "name": "python3"
  },
  "language_info": {
   "codemirror_mode": {
    "name": "ipython",
    "version": 3
   },
   "file_extension": ".py",
   "mimetype": "text/x-python",
   "name": "python",
   "nbconvert_exporter": "python",
   "pygments_lexer": "ipython3",
   "version": "3.7.3"
  }
 },
 "nbformat": 4,
 "nbformat_minor": 2
}
