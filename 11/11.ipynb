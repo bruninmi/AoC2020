{
 "cells": [
  {
   "cell_type": "code",
   "execution_count": 18,
   "metadata": {
    "collapsed": true
   },
   "outputs": [],
   "source": [
    "# Read file\n",
    "def read_file(filename):\n",
    "    with open(filename) as infile:\n",
    "        lines = [line.strip() for line in infile.readlines()]\n",
    "    return [list(line) for line in lines]"
   ]
  },
  {
   "cell_type": "code",
   "execution_count": 25,
   "metadata": {},
   "outputs": [],
   "source": [
    "# Part 1\n",
    "def update_seat(seatmap, x, y):\n",
    "    if seatmap[y][x] == '.':\n",
    "        return '.'\n",
    "    occ = 0\n",
    "    for i in [-1, 0, 1]:\n",
    "        for j in [-1, 0, 1]:\n",
    "            if ((not i == j == 0)\n",
    "                and 0 <= y + i < len(seatmap)\n",
    "                and 0 <= x + j < len(seatmap[y+i])\n",
    "                and seatmap[y+i][x+j] == '#'):\n",
    "                occ += 1\n",
    "    if occ == 0:\n",
    "        return '#'\n",
    "    if occ >= 4:\n",
    "        return 'L'\n",
    "    return seatmap[y][x]\n",
    "\n",
    "def stabilize_seatmap(seatmap):\n",
    "    old = seatmap\n",
    "    while True:\n",
    "        updated = [[update_seat(old, x, y) for x in range(len(old[y]))] for y in range(len(old))]\n",
    "        if updated == old:\n",
    "            return old\n",
    "        old = updated\n",
    "    return None\n",
    "\n",
    "def print_seatmap(seatmap):\n",
    "    for line in seatmap:\n",
    "        print(''.join(line))"
   ]
  },
  {
   "cell_type": "code",
   "execution_count": 28,
   "metadata": {},
   "outputs": [
    {
     "data": {
      "text/plain": [
       "True"
      ]
     },
     "execution_count": 28,
     "metadata": {},
     "output_type": "execute_result"
    }
   ],
   "source": [
    "# Test part 1\n",
    "sum(seat=='#' for row in stabilize_seatmap(read_file(\"test01.txt\")) for seat in row) == 37"
   ]
  },
  {
   "cell_type": "code",
   "execution_count": 30,
   "metadata": {},
   "outputs": [
    {
     "data": {
      "text/plain": [
       "2324"
      ]
     },
     "execution_count": 30,
     "metadata": {},
     "output_type": "execute_result"
    }
   ],
   "source": [
    "# Solve part 1\n",
    "sum(seat=='#' for row in stabilize_seatmap(read_file(\"input.txt\")) for seat in row)"
   ]
  },
  {
   "cell_type": "code",
   "execution_count": 42,
   "metadata": {},
   "outputs": [],
   "source": [
    "# Part 2\n",
    "directions = {(i,j) for i in [-1, 0, 1] for j in [-1, 0, 1] if (not i == j == 0)}\n",
    "\n",
    "def update_seat2(seatmap, x, y):\n",
    "    if seatmap[y][x] == '.':\n",
    "        return '.'\n",
    "    occ = 0\n",
    "    for d in directions:\n",
    "        (i,j) = d\n",
    "        while 0 <= y + i < len(seatmap) and 0 <= x + j < len(seatmap[y+i]) and seatmap[y+i][x+j] == '.':\n",
    "            i += d[0]\n",
    "            j += d[1]\n",
    "        if 0 <= y + i < len(seatmap) and 0 <= x + j < len(seatmap[y+i]) and seatmap[y+i][x+j] == '#':\n",
    "            occ += 1\n",
    "    if occ == 0:\n",
    "        return '#'\n",
    "    if occ >= 5:\n",
    "        return 'L'\n",
    "    return seatmap[y][x]\n",
    "\n",
    "def stabilize_seatmap2(seatmap):\n",
    "    old = seatmap\n",
    "    while True:\n",
    "        updated = [[update_seat2(old, x, y) for x in range(len(old[y]))] for y in range(len(old))]\n",
    "        if updated == old:\n",
    "            return old\n",
    "        old = updated\n",
    "    return None"
   ]
  },
  {
   "cell_type": "code",
   "execution_count": 45,
   "metadata": {},
   "outputs": [
    {
     "data": {
      "text/plain": [
       "True"
      ]
     },
     "execution_count": 45,
     "metadata": {},
     "output_type": "execute_result"
    }
   ],
   "source": [
    "# Test part 2\n",
    "sum(seat=='#' for row in stabilize_seatmap2(read_file(\"test01.txt\")) for seat in row) == 26"
   ]
  },
  {
   "cell_type": "code",
   "execution_count": 47,
   "metadata": {},
   "outputs": [
    {
     "data": {
      "text/plain": [
       "2068"
      ]
     },
     "execution_count": 47,
     "metadata": {},
     "output_type": "execute_result"
    }
   ],
   "source": [
    "# Solve part 2\n",
    "sum(seat=='#' for row in stabilize_seatmap2(read_file(\"input.txt\")) for seat in row)"
   ]
  }
 ],
 "metadata": {
  "kernelspec": {
   "display_name": "Python 3",
   "language": "python",
   "name": "python3"
  },
  "language_info": {
   "codemirror_mode": {
    "name": "ipython",
    "version": 3
   },
   "file_extension": ".py",
   "mimetype": "text/x-python",
   "name": "python",
   "nbconvert_exporter": "python",
   "pygments_lexer": "ipython3",
   "version": "3.6.2"
  }
 },
 "nbformat": 4,
 "nbformat_minor": 2
}
