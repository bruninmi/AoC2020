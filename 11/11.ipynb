{
 "cells": [
  {
   "cell_type": "code",
   "execution_count": 1,
   "metadata": {},
   "outputs": [],
   "source": [
    "# Read file\n",
    "import time\n",
    "\n",
    "def read_file(filename):\n",
    "    with open(filename) as infile:\n",
    "        lines = [line.strip() for line in infile.readlines()]\n",
    "    return {(x,y) for y in range(len(lines)) for x in range(len(lines[y])) if lines[y][x] != '.'}"
   ]
  },
  {
   "cell_type": "code",
   "execution_count": 2,
   "metadata": {},
   "outputs": [],
   "source": [
    "# Part 1\n",
    "def neighbors(cells, x, y):\n",
    "    nb = set()\n",
    "    for i in [-1, 0, 1]:\n",
    "        for j in [-1, 0, 1]:\n",
    "            if (not i == j == 0) and (x+i, y+j) in cells:\n",
    "                nb.add((x+i, y+j))\n",
    "    return nb\n",
    "\n",
    "def all_neighbors(cells):\n",
    "    return {(x,y): neighbors(cells, x, y) for (x,y) in cells}\n",
    "\n",
    "def process(neighbors, limit=4):\n",
    "    total = 0\n",
    "    ones = {k for k, v in neighbors.items() if len(v) < limit}\n",
    "    while ones:\n",
    "        zeroes = set()\n",
    "        for cell in ones:\n",
    "            if cell in neighbors:\n",
    "                total += 1\n",
    "                zeroes.update(neighbors[cell])\n",
    "                del neighbors[cell]\n",
    "        ones = set()\n",
    "        for cell in zeroes:\n",
    "            if cell in neighbors:\n",
    "                for neighbor in neighbors[cell]:\n",
    "                    if neighbor in neighbors:\n",
    "                        neighbors[neighbor].discard(cell)\n",
    "                        if len(neighbors[neighbor]) < limit:\n",
    "                            ones.add(neighbor)\n",
    "                del neighbors[cell]\n",
    "    return total"
   ]
  },
  {
   "cell_type": "code",
   "execution_count": 3,
   "metadata": {},
   "outputs": [
    {
     "name": "stdout",
     "output_type": "stream",
     "text": [
      "True\n"
     ]
    },
    {
     "data": {
      "text/plain": [
       "0.0"
      ]
     },
     "execution_count": 3,
     "metadata": {},
     "output_type": "execute_result"
    }
   ],
   "source": [
    "# Test part 1\n",
    "start = time.time()\n",
    "print(process(all_neighbors(read_file(\"test01.txt\"))) == 37)\n",
    "time.time() - start"
   ]
  },
  {
   "cell_type": "code",
   "execution_count": 4,
   "metadata": {},
   "outputs": [
    {
     "name": "stdout",
     "output_type": "stream",
     "text": [
      "2324\n"
     ]
    },
    {
     "data": {
      "text/plain": [
       "0.05156898498535156"
      ]
     },
     "execution_count": 4,
     "metadata": {},
     "output_type": "execute_result"
    }
   ],
   "source": [
    "# Solve part 1\n",
    "start = time.time()\n",
    "print(process(all_neighbors(read_file(\"input.txt\"))))\n",
    "time.time() - start"
   ]
  },
  {
   "cell_type": "code",
   "execution_count": 5,
   "metadata": {},
   "outputs": [],
   "source": [
    "# Part 2\n",
    "directions = {(i,j) for i in [-1, 0, 1] for j in [-1, 0, 1] if not (i == j == 0)}\n",
    "\n",
    "def visible(cells, x, y, x_max, y_max):\n",
    "    nb = set()\n",
    "    for d in directions:\n",
    "        (i,j) = d\n",
    "        while 0 <= x + i <= x_max and 0 <= y + j <= y_max and (x+i, y+j) not in cells:\n",
    "            i += d[0]\n",
    "            j += d[1]\n",
    "        if (x+i, y+j) in cells:\n",
    "            nb.add((x+i, y+j))\n",
    "    return nb\n",
    "\n",
    "def all_visible(cells):\n",
    "    x_max = max(x for (x,y) in cells)\n",
    "    y_max = max(y for (x,y) in cells)\n",
    "    return {(x,y): visible(cells, x, y, x_max, y_max) for (x,y) in cells}"
   ]
  },
  {
   "cell_type": "code",
   "execution_count": 6,
   "metadata": {},
   "outputs": [
    {
     "name": "stdout",
     "output_type": "stream",
     "text": [
      "True\n"
     ]
    },
    {
     "data": {
      "text/plain": [
       "0.0"
      ]
     },
     "execution_count": 6,
     "metadata": {},
     "output_type": "execute_result"
    }
   ],
   "source": [
    "# Test part 2\n",
    "start = time.time()\n",
    "print(process(all_visible(read_file(\"test01.txt\")), 5) == 26)\n",
    "time.time() - start"
   ]
  },
  {
   "cell_type": "code",
   "execution_count": 7,
   "metadata": {},
   "outputs": [
    {
     "name": "stdout",
     "output_type": "stream",
     "text": [
      "2068\n"
     ]
    },
    {
     "data": {
      "text/plain": [
       "0.08329343795776367"
      ]
     },
     "execution_count": 7,
     "metadata": {},
     "output_type": "execute_result"
    }
   ],
   "source": [
    "# Solve part 2\n",
    "start = time.time()\n",
    "print(process(all_visible(read_file(\"input.txt\")), 5))\n",
    "time.time() - start"
   ]
  }
 ],
 "metadata": {
  "kernelspec": {
   "display_name": "Python 3",
   "language": "python",
   "name": "python3"
  },
  "language_info": {
   "codemirror_mode": {
    "name": "ipython",
    "version": 3
   },
   "file_extension": ".py",
   "mimetype": "text/x-python",
   "name": "python",
   "nbconvert_exporter": "python",
   "pygments_lexer": "ipython3",
   "version": "3.7.3"
  }
 },
 "nbformat": 4,
 "nbformat_minor": 2
}
