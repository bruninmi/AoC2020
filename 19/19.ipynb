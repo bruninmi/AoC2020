{
 "cells": [
  {
   "cell_type": "code",
   "execution_count": 1,
   "metadata": {},
   "outputs": [],
   "source": [
    "# Imports & read file\n",
    "import time\n",
    "import itertools\n",
    "import re\n",
    "\n",
    "def read_file(filename):\n",
    "    with open(filename) as infile:\n",
    "        rules, messages = [list(g) for k, g in itertools.groupby([line.strip() for line in infile.readlines()], lambda x: bool(x)) if k]\n",
    "        rules = {int(a): b for rule in rules for a, b in [rule.split(\": \")]}\n",
    "        return rules, messages\n",
    "    return None"
   ]
  },
  {
   "cell_type": "code",
   "execution_count": 2,
   "metadata": {
    "collapsed": true
   },
   "outputs": [],
   "source": [
    "# Part 1\n",
    "def compile_rule(rule, rules, compiled):\n",
    "    if rule in compiled:\n",
    "        return compiled[rule]\n",
    "    r = rules[rule]\n",
    "    if r == '\"a\"' or r == '\"b\"':\n",
    "        r = r[1]\n",
    "    else:\n",
    "        r = [l.split(' ') for l in r.split(' | ')]\n",
    "        r = \"(\" + \"|\".join(\"\".join(compile_rule(int(i), rules, compiled) for i in l) for l in r) + \")\"\n",
    "    compiled[rule] = r\n",
    "    return r\n",
    "\n",
    "def follows(rule, messages):\n",
    "    rule = re.compile(\"^\"+rule+\"$\")\n",
    "    return [bool(rule.match(message)) for message in messages]"
   ]
  },
  {
   "cell_type": "code",
   "execution_count": 3,
   "metadata": {},
   "outputs": [
    {
     "name": "stdout",
     "output_type": "stream",
     "text": [
      "True\n"
     ]
    },
    {
     "data": {
      "text/plain": [
       "0.0"
      ]
     },
     "execution_count": 3,
     "metadata": {},
     "output_type": "execute_result"
    }
   ],
   "source": [
    "# Test part 1\n",
    "start = time.time()\n",
    "r, m = read_file(\"test01.txt\")\n",
    "print(follows(compile_rule(0, r, {}), m) == [True, False, True, False, False])\n",
    "time.time() - start"
   ]
  },
  {
   "cell_type": "code",
   "execution_count": 4,
   "metadata": {},
   "outputs": [
    {
     "name": "stdout",
     "output_type": "stream",
     "text": [
      "235\n"
     ]
    },
    {
     "data": {
      "text/plain": [
       "0.018999099731445312"
      ]
     },
     "execution_count": 4,
     "metadata": {},
     "output_type": "execute_result"
    }
   ],
   "source": [
    "# Solve part 1\n",
    "start = time.time()\n",
    "r, m = read_file(\"input.txt\")\n",
    "print(sum(follows(compile_rule(0, r, {}), m)))\n",
    "time.time() - start"
   ]
  },
  {
   "cell_type": "code",
   "execution_count": 5,
   "metadata": {},
   "outputs": [],
   "source": [
    "# Part 2\n",
    "def compile_rule2(rule, rules, compiled):\n",
    "    if rule in compiled:\n",
    "        return compiled[rule]\n",
    "    r = rules[rule]\n",
    "    if r == '\"a\"' or r == '\"b\"':\n",
    "        r = r[1]\n",
    "    else:\n",
    "        r = [l.split(' ') for l in r.split(' | ')]\n",
    "        joiner = \")11(\" if rule == 11 else \"\"\n",
    "        r = \"(\" + \"|\".join(joiner.join(compile_rule2(int(i), rules, compiled) for i in l) for l in r) + \")\"\n",
    "        if rule == 8:\n",
    "            r += '+'\n",
    "        if rule == 11:\n",
    "            r = \")11\" + r + \"11(\"\n",
    "    compiled[rule] = r\n",
    "    return r\n",
    "\n",
    "def follows2(rule, messages, max11=5):\n",
    "    n = \"{{{0}}}\"\n",
    "    g = rule.split('11')\n",
    "    g[1] += n\n",
    "    g[2] += n\n",
    "    rules = [re.compile(\"^\"+\"\".join(g).format(i)+\"$\") for i in range(1, max11)]\n",
    "    results = [bool(rules[0].match(message)) for message in messages]\n",
    "    for i in range(len(results)):\n",
    "        if not results[i]:\n",
    "            j = 1\n",
    "            while j < len(rules):\n",
    "                if rules[j].match(messages[i]):\n",
    "                    results[i] = True\n",
    "                    break\n",
    "                j += 1\n",
    "    return results"
   ]
  },
  {
   "cell_type": "code",
   "execution_count": 6,
   "metadata": {},
   "outputs": [
    {
     "name": "stdout",
     "output_type": "stream",
     "text": [
      "True\n"
     ]
    },
    {
     "data": {
      "text/plain": [
       "0.005999326705932617"
      ]
     },
     "execution_count": 6,
     "metadata": {},
     "output_type": "execute_result"
    }
   ],
   "source": [
    "# Test part 2\n",
    "start = time.time()\n",
    "r, m = read_file(\"test02.txt\")\n",
    "print(sum(follows2(compile_rule2(0, r, {}), m)) == 12)\n",
    "time.time() - start"
   ]
  },
  {
   "cell_type": "code",
   "execution_count": 7,
   "metadata": {},
   "outputs": [
    {
     "name": "stdout",
     "output_type": "stream",
     "text": [
      "379\n"
     ]
    },
    {
     "data": {
      "text/plain": [
       "0.08100676536560059"
      ]
     },
     "execution_count": 7,
     "metadata": {},
     "output_type": "execute_result"
    }
   ],
   "source": [
    "# Solve part 2\n",
    "start = time.time()\n",
    "r, m = read_file(\"input.txt\")\n",
    "print(sum(follows2(compile_rule2(0, r, {}), m)))\n",
    "time.time() - start"
   ]
  }
 ],
 "metadata": {
  "kernelspec": {
   "display_name": "Python 3",
   "language": "python",
   "name": "python3"
  },
  "language_info": {
   "codemirror_mode": {
    "name": "ipython",
    "version": 3
   },
   "file_extension": ".py",
   "mimetype": "text/x-python",
   "name": "python",
   "nbconvert_exporter": "python",
   "pygments_lexer": "ipython3",
   "version": "3.6.2"
  }
 },
 "nbformat": 4,
 "nbformat_minor": 2
}
