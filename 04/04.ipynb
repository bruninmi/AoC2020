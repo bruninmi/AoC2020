{
 "cells": [
  {
   "cell_type": "code",
   "execution_count": 1,
   "metadata": {},
   "outputs": [],
   "source": [
    "# Read file\n",
    "def read_file(filename):\n",
    "    with open(filename) as infile:\n",
    "        lines = [line.strip() for line in infile.readlines()]\n",
    "        passports = []\n",
    "        passport = {}\n",
    "        while lines:\n",
    "            line = lines.pop(0).split()\n",
    "            if not line:\n",
    "                passports.append(passport)\n",
    "                passport = {}\n",
    "            else:\n",
    "                for pair in line:\n",
    "                    key,value = pair.split(':')\n",
    "                    passport[key] = value\n",
    "        passports.append(passport)\n",
    "        return passports\n",
    "    return None"
   ]
  },
  {
   "cell_type": "code",
   "execution_count": 2,
   "metadata": {},
   "outputs": [],
   "source": [
    "# Part 1\n",
    "def is_valid(passport, required={'byr', 'iyr', 'eyr', 'hgt', 'hcl', 'ecl', 'pid'}):\n",
    "    return required <= passport.keys()"
   ]
  },
  {
   "cell_type": "code",
   "execution_count": 3,
   "metadata": {},
   "outputs": [
    {
     "data": {
      "text/plain": [
       "True"
      ]
     },
     "execution_count": 3,
     "metadata": {},
     "output_type": "execute_result"
    }
   ],
   "source": [
    "# Test part 1\n",
    "sum([is_valid(passport) for passport in read_file(\"test01.txt\")]) == 2"
   ]
  },
  {
   "cell_type": "code",
   "execution_count": 4,
   "metadata": {},
   "outputs": [
    {
     "data": {
      "text/plain": [
       "235"
      ]
     },
     "execution_count": 4,
     "metadata": {},
     "output_type": "execute_result"
    }
   ],
   "source": [
    "# Solve part 1\n",
    "sum([is_valid(passport) for passport in read_file(\"input.txt\")])"
   ]
  },
  {
   "cell_type": "code",
   "execution_count": 5,
   "metadata": {},
   "outputs": [],
   "source": [
    "# Part 2\n",
    "import re\n",
    "year = re.compile(r\"^\\d{4}$\")\n",
    "length = re.compile(r\"^(\\d{2,3})(cm|in)$\")\n",
    "color = re.compile(r\"^#[0-9a-f]{6}$\")\n",
    "idnum = re.compile(r\"^\\d{9}$\")\n",
    "\n",
    "def is_really_valid(passport):\n",
    "    if not is_valid(passport):\n",
    "        return False\n",
    "    \n",
    "    byr = passport['byr']\n",
    "    if not (year.match(byr) and 1920 <= int(byr) <= 2002):\n",
    "        return False\n",
    "    \n",
    "    iyr = passport['iyr']\n",
    "    if not (year.match(iyr) and 2010 <= int(iyr) <= 2020):\n",
    "        return False\n",
    "    \n",
    "    eyr = passport['eyr']\n",
    "    if not (year.match(eyr) and 2020 <= int(eyr) <= 2030):\n",
    "        return False\n",
    "    \n",
    "    hgt = passport['hgt']\n",
    "    if not length.match(hgt):\n",
    "        return False\n",
    "    else:\n",
    "        num, unit = length.match(hgt).groups()\n",
    "        if unit == 'in':\n",
    "            if not (59 <= int(num) <= 76):\n",
    "                return False\n",
    "        elif unit == 'cm':\n",
    "            if not (150 <= int(num) <= 193):\n",
    "                return False\n",
    "        else:\n",
    "            return False\n",
    "    \n",
    "    hcl = passport['hcl']\n",
    "    if not color.match(hcl):\n",
    "        return False\n",
    "    \n",
    "    ecl = passport['ecl']\n",
    "    if not ecl in {'amb', 'blu', 'brn', 'gry', 'grn', 'hzl', 'oth'}:\n",
    "        return False\n",
    "    \n",
    "    pid = passport['pid']\n",
    "    if not idnum.match(pid):\n",
    "        return False\n",
    "    \n",
    "    return True"
   ]
  },
  {
   "cell_type": "code",
   "execution_count": 6,
   "metadata": {},
   "outputs": [
    {
     "data": {
      "text/plain": [
       "True"
      ]
     },
     "execution_count": 6,
     "metadata": {},
     "output_type": "execute_result"
    }
   ],
   "source": [
    "# Test part 2\n",
    "sum([is_really_valid(passport) for passport in read_file(\"test01.txt\")]) == 2 and \\\n",
    "sum([is_really_valid(passport) for passport in read_file(\"test02.txt\")]) == 0 and \\\n",
    "sum([is_really_valid(passport) for passport in read_file(\"test03.txt\")]) == 4"
   ]
  },
  {
   "cell_type": "code",
   "execution_count": 7,
   "metadata": {},
   "outputs": [
    {
     "data": {
      "text/plain": [
       "194"
      ]
     },
     "execution_count": 7,
     "metadata": {},
     "output_type": "execute_result"
    }
   ],
   "source": [
    "# Solve part 2\n",
    "sum([is_really_valid(passport) for passport in read_file(\"input.txt\")])"
   ]
  }
 ],
 "metadata": {
  "kernelspec": {
   "display_name": "Python 3",
   "language": "python",
   "name": "python3"
  },
  "language_info": {
   "codemirror_mode": {
    "name": "ipython",
    "version": 3
   },
   "file_extension": ".py",
   "mimetype": "text/x-python",
   "name": "python",
   "nbconvert_exporter": "python",
   "pygments_lexer": "ipython3",
   "version": "3.7.3"
  }
 },
 "nbformat": 4,
 "nbformat_minor": 2
}
