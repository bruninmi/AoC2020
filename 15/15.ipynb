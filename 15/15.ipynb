{
 "cells": [
  {
   "cell_type": "code",
   "execution_count": 1,
   "metadata": {},
   "outputs": [],
   "source": [
    "# Imports\n",
    "import time"
   ]
  },
  {
   "cell_type": "code",
   "execution_count": 2,
   "metadata": {},
   "outputs": [],
   "source": [
    "# Part 1\n",
    "def advanced_juffen(start, stop=2020):\n",
    "    last = {}\n",
    "    turn = 0\n",
    "    for num in start:\n",
    "        turn += 1\n",
    "        last[num] = turn\n",
    "    n = 0\n",
    "    while turn < stop:\n",
    "        turn += 1\n",
    "        num = n\n",
    "        if num in last:\n",
    "            n = turn - last[num]\n",
    "        else:\n",
    "            n = 0\n",
    "        last[num] = turn\n",
    "    return num"
   ]
  },
  {
   "cell_type": "code",
   "execution_count": 3,
   "metadata": {},
   "outputs": [
    {
     "name": "stdout",
     "output_type": "stream",
     "text": [
      "True\n",
      "True\n",
      "True\n",
      "True\n",
      "True\n",
      "True\n",
      "True\n"
     ]
    },
    {
     "data": {
      "text/plain": [
       "0.0029840469360351562"
      ]
     },
     "execution_count": 3,
     "metadata": {},
     "output_type": "execute_result"
    }
   ],
   "source": [
    "# Test part 1\n",
    "start = time.time()\n",
    "print(advanced_juffen([0, 3, 6]) == 436)\n",
    "print(advanced_juffen([1, 3, 2]) == 1)\n",
    "print(advanced_juffen([2, 1, 3]) == 10)\n",
    "print(advanced_juffen([1, 2, 3]) == 27)\n",
    "print(advanced_juffen([2, 3, 1]) == 78)\n",
    "print(advanced_juffen([3, 2, 1]) == 438)\n",
    "print(advanced_juffen([3, 1, 2]) == 1836)\n",
    "time.time() - start"
   ]
  },
  {
   "cell_type": "code",
   "execution_count": 4,
   "metadata": {},
   "outputs": [
    {
     "name": "stdout",
     "output_type": "stream",
     "text": [
      "492\n"
     ]
    },
    {
     "data": {
      "text/plain": [
       "0.0009925365447998047"
      ]
     },
     "execution_count": 4,
     "metadata": {},
     "output_type": "execute_result"
    }
   ],
   "source": [
    "# Solve part 1\n",
    "start = time.time()\n",
    "print(advanced_juffen([1, 20, 8, 12, 0, 14]))\n",
    "time.time() - start"
   ]
  },
  {
   "cell_type": "code",
   "execution_count": 5,
   "metadata": {},
   "outputs": [
    {
     "name": "stdout",
     "output_type": "stream",
     "text": [
      "True\n",
      "True\n",
      "True\n",
      "True\n",
      "True\n",
      "True\n",
      "True\n"
     ]
    },
    {
     "data": {
      "text/plain": [
       "79.95098447799683"
      ]
     },
     "execution_count": 5,
     "metadata": {},
     "output_type": "execute_result"
    }
   ],
   "source": [
    "# Test part 2\n",
    "start = time.time()\n",
    "print(advanced_juffen([0, 3, 6], 3e7) == 175594)\n",
    "print(advanced_juffen([1, 3, 2], 3e7) == 2578)\n",
    "print(advanced_juffen([2, 1, 3], 3e7) == 3544142)\n",
    "print(advanced_juffen([1, 2, 3], 3e7) == 261214)\n",
    "print(advanced_juffen([2, 3, 1], 3e7) == 6895259)\n",
    "print(advanced_juffen([3, 2, 1], 3e7) == 18)\n",
    "print(advanced_juffen([3, 1, 2], 3e7) == 362)\n",
    "time.time() - start"
   ]
  },
  {
   "cell_type": "code",
   "execution_count": 6,
   "metadata": {},
   "outputs": [
    {
     "name": "stdout",
     "output_type": "stream",
     "text": [
      "63644\n"
     ]
    },
    {
     "data": {
      "text/plain": [
       "10.697232961654663"
      ]
     },
     "execution_count": 6,
     "metadata": {},
     "output_type": "execute_result"
    }
   ],
   "source": [
    "# Solve part 2\n",
    "start = time.time()\n",
    "print(advanced_juffen([1, 20, 8, 12, 0, 14], 3e7))\n",
    "time.time() - start"
   ]
  }
 ],
 "metadata": {
  "kernelspec": {
   "display_name": "Python 3",
   "language": "python",
   "name": "python3"
  },
  "language_info": {
   "codemirror_mode": {
    "name": "ipython",
    "version": 3
   },
   "file_extension": ".py",
   "mimetype": "text/x-python",
   "name": "python",
   "nbconvert_exporter": "python",
   "pygments_lexer": "ipython3",
   "version": "3.7.3"
  }
 },
 "nbformat": 4,
 "nbformat_minor": 2
}
