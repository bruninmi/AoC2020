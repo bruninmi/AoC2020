{
 "cells": [
  {
   "cell_type": "code",
   "execution_count": 1,
   "metadata": {
    "collapsed": true
   },
   "outputs": [],
   "source": [
    "# Imports & read file\n",
    "import time\n",
    "import itertools\n",
    "\n",
    "def read_file(filename):\n",
    "    if filename == \"test\":\n",
    "        return [3, 8, 9, 1, 2, 5, 4, 6, 7]\n",
    "    if filename == \"input\":\n",
    "        return [4, 8, 7, 9, 1, 2, 3, 6, 5]\n",
    "    return None"
   ]
  },
  {
   "cell_type": "code",
   "execution_count": 2,
   "metadata": {},
   "outputs": [],
   "source": [
    "# Part 1\n",
    "def play(inp, rounds=100):\n",
    "    m = len(inp)\n",
    "    cups = [0] * (m + 1)\n",
    "    for n in range(m):\n",
    "        cups[inp[n]] = inp[(n+1)%m]\n",
    "    cur = inp[0]\n",
    "    for _ in range(rounds):\n",
    "        first = cups[cur]\n",
    "        second = cups[first]\n",
    "        third = cups[second]\n",
    "        tar = cur - 1 if cur > 1 else m\n",
    "        while tar in [first, second, third]:\n",
    "            tar = tar - 1 if tar > 1 else m\n",
    "        cups[cur], cups[third], cups[tar] = cups[third], cups[tar], cups[cur]\n",
    "        cur = cups[cur]\n",
    "    return cups\n",
    "\n",
    "def after_1(cups, n=8):\n",
    "    cur = 1\n",
    "    order = []\n",
    "    for _ in range(n):\n",
    "        order.append(cups[cur])\n",
    "        cur = cups[cur]\n",
    "    return order"
   ]
  },
  {
   "cell_type": "code",
   "execution_count": 3,
   "metadata": {},
   "outputs": [
    {
     "name": "stdout",
     "output_type": "stream",
     "text": [
      "True\n"
     ]
    },
    {
     "data": {
      "text/plain": [
       "0.0010023117065429688"
      ]
     },
     "execution_count": 3,
     "metadata": {},
     "output_type": "execute_result"
    }
   ],
   "source": [
    "# Test part 1\n",
    "start = time.time()\n",
    "print(after_1(play(read_file(\"test\"))) == [6, 7, 3, 8, 4, 5, 2, 9])\n",
    "time.time() - start"
   ]
  },
  {
   "cell_type": "code",
   "execution_count": 4,
   "metadata": {},
   "outputs": [
    {
     "name": "stdout",
     "output_type": "stream",
     "text": [
      "[8, 9, 5, 7, 3, 2, 4, 6]\n"
     ]
    },
    {
     "data": {
      "text/plain": [
       "0.0"
      ]
     },
     "execution_count": 4,
     "metadata": {},
     "output_type": "execute_result"
    }
   ],
   "source": [
    "# Solve part 1\n",
    "start = time.time()\n",
    "print(after_1(play(read_file(\"input\"))))\n",
    "time.time() - start"
   ]
  },
  {
   "cell_type": "code",
   "execution_count": 5,
   "metadata": {},
   "outputs": [
    {
     "name": "stdout",
     "output_type": "stream",
     "text": [
      "True\n"
     ]
    },
    {
     "data": {
      "text/plain": [
       "6.835796594619751"
      ]
     },
     "execution_count": 5,
     "metadata": {},
     "output_type": "execute_result"
    }
   ],
   "source": [
    "# Test part 2\n",
    "start = time.time()\n",
    "r = after_1(play(read_file(\"test\") + list(range(10, 1_000_001)), 10_000_000), 2)\n",
    "print(r[0] * r[1] == 149245887792)\n",
    "time.time() - start"
   ]
  },
  {
   "cell_type": "code",
   "execution_count": 6,
   "metadata": {
    "scrolled": false
   },
   "outputs": [
    {
     "name": "stdout",
     "output_type": "stream",
     "text": [
      "2029056128\n"
     ]
    },
    {
     "data": {
      "text/plain": [
       "7.010799169540405"
      ]
     },
     "execution_count": 6,
     "metadata": {},
     "output_type": "execute_result"
    }
   ],
   "source": [
    "# Solve part 2\n",
    "start = time.time()\n",
    "r = after_1(play(read_file(\"input\") + list(range(10, 1_000_001)), 10_000_000), 2)\n",
    "print(r[0] * r[1])\n",
    "time.time() - start"
   ]
  }
 ],
 "metadata": {
  "kernelspec": {
   "display_name": "Python 3",
   "language": "python",
   "name": "python3"
  },
  "language_info": {
   "codemirror_mode": {
    "name": "ipython",
    "version": 3
   },
   "file_extension": ".py",
   "mimetype": "text/x-python",
   "name": "python",
   "nbconvert_exporter": "python",
   "pygments_lexer": "ipython3",
   "version": "3.6.2"
  }
 },
 "nbformat": 4,
 "nbformat_minor": 2
}
