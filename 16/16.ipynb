{
 "cells": [
  {
   "cell_type": "code",
   "execution_count": 1,
   "metadata": {},
   "outputs": [],
   "source": [
    "# Imports & read file\n",
    "import time\n",
    "import re\n",
    "import functools\n",
    "import operator\n",
    "\n",
    "def read_file(filename):\n",
    "    rule = re.compile(r\"^(.+): (\\d+)-(\\d+) or (\\d+)-(\\d+)$\")\n",
    "    rules = {}\n",
    "    ticket = []\n",
    "    nearby = []\n",
    "    with open(filename) as infile:\n",
    "        lines = [line.strip() for line in infile.readlines()]\n",
    "        i = 0\n",
    "        while lines[i]:\n",
    "            line = rule.match(lines[i]).groups()\n",
    "            rules[line[0]] = {n for n in range(int(line[1]), int(line[2]) + 1)} | {n for n in range(int(line[3]), int(line[4]) + 1)}\n",
    "            i += 1\n",
    "        i += 2\n",
    "        ticket = [int(n) for n in lines[i].split(',')]\n",
    "        i += 3\n",
    "        while i < len(lines) and lines[i]:\n",
    "            nearby.append([int(n) for n in lines[i].split(',')])\n",
    "            i += 1\n",
    "    return rules, ticket, nearby"
   ]
  },
  {
   "cell_type": "code",
   "execution_count": 2,
   "metadata": {},
   "outputs": [],
   "source": [
    "# Part 1\n",
    "def invalid_values(rule, ticket):\n",
    "    return [n for n in ticket if n not in rule]\n",
    "\n",
    "def all_invalid_values(rules, tickets):\n",
    "    rule = set.union(*(rules[r] for r in rules))\n",
    "    return [n for ticket in tickets for n in invalid_values(rule, ticket)]"
   ]
  },
  {
   "cell_type": "code",
   "execution_count": 3,
   "metadata": {},
   "outputs": [
    {
     "name": "stdout",
     "output_type": "stream",
     "text": [
      "True\n"
     ]
    },
    {
     "data": {
      "text/plain": [
       "0.0014889240264892578"
      ]
     },
     "execution_count": 3,
     "metadata": {},
     "output_type": "execute_result"
    }
   ],
   "source": [
    "# Test part 1\n",
    "start = time.time()\n",
    "inp = read_file(\"test01.txt\")\n",
    "print(sum(all_invalid_values(inp[0], inp[2])) == 71)\n",
    "time.time() - start"
   ]
  },
  {
   "cell_type": "code",
   "execution_count": 4,
   "metadata": {},
   "outputs": [
    {
     "name": "stdout",
     "output_type": "stream",
     "text": [
      "22057\n"
     ]
    },
    {
     "data": {
      "text/plain": [
       "0.006479740142822266"
      ]
     },
     "execution_count": 4,
     "metadata": {},
     "output_type": "execute_result"
    }
   ],
   "source": [
    "# Solve part 1\n",
    "start = time.time()\n",
    "inp = read_file(\"input.txt\")\n",
    "print(sum(all_invalid_values(inp[0], inp[2])))\n",
    "time.time() - start"
   ]
  },
  {
   "cell_type": "code",
   "execution_count": 5,
   "metadata": {},
   "outputs": [],
   "source": [
    "# Part 2\n",
    "def valid_tickets(rules, tickets):\n",
    "    rule = set.union(*(rules[r] for r in rules))\n",
    "    return [ticket for ticket in tickets if not invalid_values(rule, ticket)]\n",
    "\n",
    "def determine_fields(rules, tickets):\n",
    "    fields = [set(rules.keys()) for rule in rules]\n",
    "    tickets = valid_tickets(rules, tickets)\n",
    "    for ticket in tickets:\n",
    "        for i in range(len(fields)):\n",
    "            for field in set(fields[i]):\n",
    "                if ticket[i] not in rules[field]:\n",
    "                    fields[i].discard(field)\n",
    "    order = sorted(zip([len(f) for f in fields], range(len(fields))), key=lambda x: x[0])\n",
    "    used = set()\n",
    "    for l, i in order:\n",
    "        fields[i] -= used\n",
    "        used |= fields[i]\n",
    "    return [next(iter(f)) for f in fields]\n",
    "\n",
    "def departure_fields(fields):\n",
    "    return "
   ]
  },
  {
   "cell_type": "code",
   "execution_count": 6,
   "metadata": {},
   "outputs": [
    {
     "name": "stdout",
     "output_type": "stream",
     "text": [
      "True\n"
     ]
    },
    {
     "data": {
      "text/plain": [
       "0.0014889240264892578"
      ]
     },
     "execution_count": 6,
     "metadata": {},
     "output_type": "execute_result"
    }
   ],
   "source": [
    "# Test part 2\n",
    "start = time.time()\n",
    "inp = read_file(\"test02.txt\")\n",
    "print(determine_fields(inp[0], inp[2]) == ['row', 'class', 'seat'])\n",
    "time.time() - start"
   ]
  },
  {
   "cell_type": "code",
   "execution_count": 7,
   "metadata": {},
   "outputs": [
    {
     "name": "stdout",
     "output_type": "stream",
     "text": [
      "1093427331937\n"
     ]
    },
    {
     "data": {
      "text/plain": [
       "0.05555272102355957"
      ]
     },
     "execution_count": 7,
     "metadata": {},
     "output_type": "execute_result"
    }
   ],
   "source": [
    "# Solve part 2\n",
    "start = time.time()\n",
    "inp = read_file(\"input.txt\")\n",
    "fields = determine_fields(inp[0], inp[2])\n",
    "print(functools.reduce(operator.mul, [inp[1][i] for i in range(len(fields)) if fields[i][:9] == \"departure\"]))\n",
    "time.time() - start"
   ]
  }
 ],
 "metadata": {
  "kernelspec": {
   "display_name": "Python 3",
   "language": "python",
   "name": "python3"
  },
  "language_info": {
   "codemirror_mode": {
    "name": "ipython",
    "version": 3
   },
   "file_extension": ".py",
   "mimetype": "text/x-python",
   "name": "python",
   "nbconvert_exporter": "python",
   "pygments_lexer": "ipython3",
   "version": "3.7.3"
  }
 },
 "nbformat": 4,
 "nbformat_minor": 2
}
