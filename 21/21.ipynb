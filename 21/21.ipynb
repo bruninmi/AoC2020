{
 "cells": [
  {
   "cell_type": "code",
   "execution_count": 1,
   "metadata": {
    "collapsed": true
   },
   "outputs": [],
   "source": [
    "# Imports & read file\n",
    "import time\n",
    "\n",
    "def read_file(filename):\n",
    "    with open(filename) as infile:\n",
    "        return [line.strip() for line in infile.readlines()]\n",
    "    return None"
   ]
  },
  {
   "cell_type": "code",
   "execution_count": 2,
   "metadata": {
    "collapsed": true
   },
   "outputs": [],
   "source": [
    "# Part 1\n",
    "def safe_ingredients(foods):\n",
    "    total = {}\n",
    "    danger = {}\n",
    "    for food in foods:\n",
    "        ingredients, allergens = food[:-1].split(' (contains ')\n",
    "        ingredients = set(ingredients.split(' '))\n",
    "        allergens = allergens.split(', ')\n",
    "        for ingredient in ingredients:\n",
    "            total[ingredient] = total.get(ingredient, 0) + 1\n",
    "        for allergen in allergens:\n",
    "            if allergen not in danger:\n",
    "                danger[allergen] = set(ingredients)\n",
    "            else:\n",
    "                danger[allergen] &= ingredients\n",
    "    return sum(total[i] for i in set(total) - {a for g in danger for a in danger[g]})"
   ]
  },
  {
   "cell_type": "code",
   "execution_count": 3,
   "metadata": {},
   "outputs": [
    {
     "name": "stdout",
     "output_type": "stream",
     "text": [
      "True\n"
     ]
    },
    {
     "data": {
      "text/plain": [
       "0.0010006427764892578"
      ]
     },
     "execution_count": 3,
     "metadata": {},
     "output_type": "execute_result"
    }
   ],
   "source": [
    "# Test part 1\n",
    "start = time.time()\n",
    "print(safe_ingredients(read_file(\"test01.txt\")) == 5)\n",
    "time.time() - start"
   ]
  },
  {
   "cell_type": "code",
   "execution_count": 4,
   "metadata": {},
   "outputs": [
    {
     "name": "stdout",
     "output_type": "stream",
     "text": [
      "2786\n"
     ]
    },
    {
     "data": {
      "text/plain": [
       "0.0030040740966796875"
      ]
     },
     "execution_count": 4,
     "metadata": {},
     "output_type": "execute_result"
    }
   ],
   "source": [
    "# Solve part 1\n",
    "start = time.time()\n",
    "print(safe_ingredients(read_file(\"input.txt\")))\n",
    "time.time() - start"
   ]
  },
  {
   "cell_type": "code",
   "execution_count": 5,
   "metadata": {},
   "outputs": [],
   "source": [
    "# Part 2\n",
    "def cdi(foods):\n",
    "    total = {}\n",
    "    danger = {}\n",
    "    for food in foods:\n",
    "        ingredients, allergens = food[:-1].split(' (contains ')\n",
    "        ingredients = set(ingredients.split(' '))\n",
    "        allergens = allergens.split(', ')\n",
    "        for ingredient in ingredients:\n",
    "            total[ingredient] = total.get(ingredient, 0) + 1\n",
    "        for allergen in allergens:\n",
    "            if allergen not in danger:\n",
    "                danger[allergen] = set(ingredients)\n",
    "            else:\n",
    "                danger[allergen] &= ingredients\n",
    "    allergens = {}\n",
    "    while danger:\n",
    "        a, i = next(((k, next(iter(v))) for k, v in danger.items() if len(v) == 1))\n",
    "        allergens[a] = i\n",
    "        for k in danger:\n",
    "            danger[k].discard(i)\n",
    "        del danger[a]\n",
    "    return \",\".join(allergens[a] for a in sorted(allergens))"
   ]
  },
  {
   "cell_type": "code",
   "execution_count": 6,
   "metadata": {},
   "outputs": [
    {
     "name": "stdout",
     "output_type": "stream",
     "text": [
      "True\n"
     ]
    },
    {
     "data": {
      "text/plain": [
       "0.0010004043579101562"
      ]
     },
     "execution_count": 6,
     "metadata": {},
     "output_type": "execute_result"
    }
   ],
   "source": [
    "# Test part 2\n",
    "start = time.time()\n",
    "print(cdi(read_file(\"test01.txt\")) == \"mxmxvkd,sqjhc,fvjkl\")\n",
    "time.time() - start"
   ]
  },
  {
   "cell_type": "code",
   "execution_count": 7,
   "metadata": {},
   "outputs": [
    {
     "name": "stdout",
     "output_type": "stream",
     "text": [
      "prxmdlz,ncjv,knprxg,lxjtns,vzzz,clg,cxfz,qdfpq\n"
     ]
    },
    {
     "data": {
      "text/plain": [
       "0.0010001659393310547"
      ]
     },
     "execution_count": 7,
     "metadata": {},
     "output_type": "execute_result"
    }
   ],
   "source": [
    "# Solve part 2\n",
    "start = time.time()\n",
    "print(cdi(read_file(\"input.txt\")))\n",
    "time.time() - start"
   ]
  }
 ],
 "metadata": {
  "kernelspec": {
   "display_name": "Python 3",
   "language": "python",
   "name": "python3"
  },
  "language_info": {
   "codemirror_mode": {
    "name": "ipython",
    "version": 3
   },
   "file_extension": ".py",
   "mimetype": "text/x-python",
   "name": "python",
   "nbconvert_exporter": "python",
   "pygments_lexer": "ipython3",
   "version": "3.6.2"
  }
 },
 "nbformat": 4,
 "nbformat_minor": 2
}
