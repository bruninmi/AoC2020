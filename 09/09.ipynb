{
 "cells": [
  {
   "cell_type": "code",
   "execution_count": 1,
   "metadata": {},
   "outputs": [],
   "source": [
    "# Read file\n",
    "def read_file(filename):\n",
    "    with open(filename) as infile:\n",
    "        lines = [int(line.strip()) for line in infile.readlines()]\n",
    "    return lines"
   ]
  },
  {
   "cell_type": "code",
   "execution_count": 2,
   "metadata": {},
   "outputs": [],
   "source": [
    "# Part 1\n",
    "def has_combination(numbers, target):\n",
    "    for i in range(len(numbers)):\n",
    "        for j in range(i+1, len(numbers)):\n",
    "            if numbers[i] + numbers[j] == target:\n",
    "                return True\n",
    "    return False\n",
    "\n",
    "def first_outlier(numbers, window):\n",
    "    for i in range(window, len(numbers)):\n",
    "        if not has_combination(numbers[i-window:i], numbers[i]):\n",
    "            return numbers[i]\n",
    "    return None"
   ]
  },
  {
   "cell_type": "code",
   "execution_count": 3,
   "metadata": {},
   "outputs": [
    {
     "data": {
      "text/plain": [
       "True"
      ]
     },
     "execution_count": 3,
     "metadata": {},
     "output_type": "execute_result"
    }
   ],
   "source": [
    "# Test part 1\n",
    "first_outlier(read_file(\"test01.txt\"), 5) == 127"
   ]
  },
  {
   "cell_type": "code",
   "execution_count": 4,
   "metadata": {},
   "outputs": [
    {
     "data": {
      "text/plain": [
       "21806024"
      ]
     },
     "execution_count": 4,
     "metadata": {},
     "output_type": "execute_result"
    }
   ],
   "source": [
    "# Solve part 1\n",
    "first_outlier(read_file(\"input.txt\"), 25)"
   ]
  },
  {
   "cell_type": "code",
   "execution_count": 5,
   "metadata": {},
   "outputs": [],
   "source": [
    "# Part 2\n",
    "def inc(numbers, target, j, s):\n",
    "    return j, s\n",
    "\n",
    "def dec(numbers, target, j, s):\n",
    "    return j, s\n",
    "\n",
    "def find_sum(numbers, target):\n",
    "    i = 0\n",
    "    j = 2\n",
    "    s = numbers[0] + numbers[1]\n",
    "    while s != target:\n",
    "        while s < target:\n",
    "            s += numbers[j]\n",
    "            j += 1\n",
    "        if s > target:\n",
    "            s -= numbers[i]\n",
    "            i += 1\n",
    "        while s > target:\n",
    "            j -= 1\n",
    "            s -= numbers[j]\n",
    "    return min(numbers[i:j]) + max(numbers[i:j])"
   ]
  },
  {
   "cell_type": "code",
   "execution_count": 6,
   "metadata": {},
   "outputs": [
    {
     "data": {
      "text/plain": [
       "True"
      ]
     },
     "execution_count": 6,
     "metadata": {},
     "output_type": "execute_result"
    }
   ],
   "source": [
    "# Test part 2\n",
    "numbers = read_file(\"test01.txt\")\n",
    "find_sum(numbers, first_outlier(numbers, 5)) == 62"
   ]
  },
  {
   "cell_type": "code",
   "execution_count": 7,
   "metadata": {},
   "outputs": [
    {
     "data": {
      "text/plain": [
       "2986195"
      ]
     },
     "execution_count": 7,
     "metadata": {},
     "output_type": "execute_result"
    }
   ],
   "source": [
    "# Solve part 2\n",
    "numbers = read_file(\"input.txt\")\n",
    "find_sum(numbers, first_outlier(numbers, 25))"
   ]
  }
 ],
 "metadata": {
  "kernelspec": {
   "display_name": "Python 3",
   "language": "python",
   "name": "python3"
  },
  "language_info": {
   "codemirror_mode": {
    "name": "ipython",
    "version": 3
   },
   "file_extension": ".py",
   "mimetype": "text/x-python",
   "name": "python",
   "nbconvert_exporter": "python",
   "pygments_lexer": "ipython3",
   "version": "3.7.3"
  }
 },
 "nbformat": 4,
 "nbformat_minor": 2
}
