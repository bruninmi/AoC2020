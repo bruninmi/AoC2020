{
 "cells": [
  {
   "cell_type": "code",
   "execution_count": 1,
   "metadata": {
    "collapsed": true
   },
   "outputs": [],
   "source": [
    "# Read file\n",
    "import time\n",
    "\n",
    "def read_file(filename):\n",
    "    with open(filename) as infile:\n",
    "        lines = [line.strip() for line in infile.readlines()]\n",
    "    return lines"
   ]
  },
  {
   "cell_type": "code",
   "execution_count": 2,
   "metadata": {},
   "outputs": [],
   "source": [
    "# Part 1\n",
    "def next_departure(arrival, bus):\n",
    "    if arrival % bus == 0:\n",
    "        return arrival\n",
    "    return bus * ((arrival // bus) + 1)\n",
    "\n",
    "def earliest_bus(arrival, buses):\n",
    "    arrival = int(arrival)\n",
    "    buses = [int(bus) for bus in buses.split(',') if bus != 'x']\n",
    "    departure = min([(next_departure(arrival, bus) - arrival, bus) for bus in buses], key=lambda x: x[0])\n",
    "    return departure[0] * departure[1]"
   ]
  },
  {
   "cell_type": "code",
   "execution_count": 3,
   "metadata": {},
   "outputs": [
    {
     "name": "stdout",
     "output_type": "stream",
     "text": [
      "True\n"
     ]
    },
    {
     "data": {
      "text/plain": [
       "0.0"
      ]
     },
     "execution_count": 3,
     "metadata": {},
     "output_type": "execute_result"
    }
   ],
   "source": [
    "# Test part 1\n",
    "start = time.time()\n",
    "print(earliest_bus(*read_file(\"test01.txt\")) == 295)\n",
    "time.time() - start"
   ]
  },
  {
   "cell_type": "code",
   "execution_count": 4,
   "metadata": {},
   "outputs": [
    {
     "name": "stdout",
     "output_type": "stream",
     "text": [
      "6559\n"
     ]
    },
    {
     "data": {
      "text/plain": [
       "0.0009989738464355469"
      ]
     },
     "execution_count": 4,
     "metadata": {},
     "output_type": "execute_result"
    }
   ],
   "source": [
    "# Solve part 1\n",
    "start = time.time()\n",
    "print(earliest_bus(*read_file(\"input.txt\")))\n",
    "time.time() - start"
   ]
  },
  {
   "cell_type": "code",
   "execution_count": 5,
   "metadata": {},
   "outputs": [],
   "source": [
    "# Part 2\n",
    "def gcd(a, b):\n",
    "    while not b == 0:\n",
    "        a, b = b, a % b\n",
    "    return a\n",
    "\n",
    "def lcm(a, b):\n",
    "    return a * b // gcd(a, b)\n",
    "\n",
    "def contest(buses):\n",
    "    buses = [int(bus) if bus != 'x' else 0 for bus in buses.split(',')]\n",
    "    b = 0\n",
    "    n = buses[0]\n",
    "    for i in range(1, len(buses)):\n",
    "        if buses[i] == 0:\n",
    "            continue\n",
    "        while (buses[i] - i - b) % buses[i]:\n",
    "            b += n\n",
    "        n = lcm(n, buses[i])\n",
    "    return b"
   ]
  },
  {
   "cell_type": "code",
   "execution_count": 6,
   "metadata": {},
   "outputs": [
    {
     "name": "stdout",
     "output_type": "stream",
     "text": [
      "True\n",
      "True\n",
      "True\n",
      "True\n",
      "True\n",
      "True\n"
     ]
    },
    {
     "data": {
      "text/plain": [
       "0.0009932518005371094"
      ]
     },
     "execution_count": 6,
     "metadata": {},
     "output_type": "execute_result"
    }
   ],
   "source": [
    "# Test part 2\n",
    "start = time.time()\n",
    "print(contest(read_file(\"test01.txt\")[1]) == 1068781)\n",
    "print(contest(\"17,x,13,19\") == 3417)\n",
    "print(contest(\"67,7,59,61\") == 754018)\n",
    "print(contest(\"67,x,7,59,61\") == 779210)\n",
    "print(contest(\"67,7,x,59,61\") == 1261476)\n",
    "print(contest(\"1789,37,47,1889\") == 1202161486)\n",
    "time.time() - start"
   ]
  },
  {
   "cell_type": "code",
   "execution_count": 7,
   "metadata": {},
   "outputs": [
    {
     "name": "stdout",
     "output_type": "stream",
     "text": [
      "626670513163231\n"
     ]
    },
    {
     "data": {
      "text/plain": [
       "0.0009999275207519531"
      ]
     },
     "execution_count": 7,
     "metadata": {},
     "output_type": "execute_result"
    }
   ],
   "source": [
    "# Solve part 2\n",
    "start = time.time()\n",
    "print(contest(read_file(\"input.txt\")[1]))\n",
    "time.time() - start"
   ]
  }
 ],
 "metadata": {
  "kernelspec": {
   "display_name": "Python 3",
   "language": "python",
   "name": "python3"
  },
  "language_info": {
   "codemirror_mode": {
    "name": "ipython",
    "version": 3
   },
   "file_extension": ".py",
   "mimetype": "text/x-python",
   "name": "python",
   "nbconvert_exporter": "python",
   "pygments_lexer": "ipython3",
   "version": "3.6.2"
  }
 },
 "nbformat": 4,
 "nbformat_minor": 2
}
