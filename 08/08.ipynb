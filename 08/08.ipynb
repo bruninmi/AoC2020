{
 "cells": [
  {
   "cell_type": "code",
   "execution_count": 1,
   "metadata": {},
   "outputs": [],
   "source": [
    "# Read file\n",
    "def read_file(filename):\n",
    "    with open(filename) as infile:\n",
    "        lines = [tuple(line.strip().split()) for line in infile.readlines()]\n",
    "        code = [(x, int(y)) for (x, y) in lines]\n",
    "    return code"
   ]
  },
  {
   "cell_type": "code",
   "execution_count": 2,
   "metadata": {},
   "outputs": [],
   "source": [
    "# Part 1\n",
    "def execute_until_duplicate(code):\n",
    "    done = set()\n",
    "    acc = 0\n",
    "    i = 0\n",
    "    while i not in done:\n",
    "        done.add(i)\n",
    "        op, val = code[i]\n",
    "        if op == 'acc':\n",
    "            acc += val\n",
    "            i += 1\n",
    "        elif op == 'jmp':\n",
    "            i += val\n",
    "        elif op == 'nop':\n",
    "            i += 1\n",
    "    return acc"
   ]
  },
  {
   "cell_type": "code",
   "execution_count": 3,
   "metadata": {},
   "outputs": [
    {
     "data": {
      "text/plain": [
       "True"
      ]
     },
     "execution_count": 3,
     "metadata": {},
     "output_type": "execute_result"
    }
   ],
   "source": [
    "# Test part 1\n",
    "execute_until_duplicate(read_file(\"test01.txt\")) == 5"
   ]
  },
  {
   "cell_type": "code",
   "execution_count": 4,
   "metadata": {},
   "outputs": [
    {
     "data": {
      "text/plain": [
       "1446"
      ]
     },
     "execution_count": 4,
     "metadata": {},
     "output_type": "execute_result"
    }
   ],
   "source": [
    "# Solve part 1\n",
    "execute_until_duplicate(read_file(\"input.txt\"))"
   ]
  },
  {
   "cell_type": "code",
   "execution_count": 5,
   "metadata": {},
   "outputs": [],
   "source": [
    "# Part 2\n",
    "def execute(code):\n",
    "    done = set()\n",
    "    acc = 0\n",
    "    i = 0\n",
    "    while i not in done:\n",
    "        if i >= len(code):\n",
    "            return acc\n",
    "        done.add(i)\n",
    "        op, val = code[i]\n",
    "        if op == 'acc':\n",
    "            acc += val\n",
    "            i += 1\n",
    "        elif op == 'jmp':\n",
    "            i += val\n",
    "        elif op == 'nop':\n",
    "            i += 1\n",
    "    return None\n",
    "\n",
    "def decorrupt(code):\n",
    "    for i in range(len(code)):\n",
    "        op, val = code[i]\n",
    "        if op == 'acc':\n",
    "            continue\n",
    "        elif op == 'jmp':\n",
    "            alt_op = 'nop'\n",
    "        elif op == 'nop':\n",
    "            alt_op = 'jmp'\n",
    "                        \n",
    "        code[i] = (alt_op, val)\n",
    "        result = execute(code)\n",
    "        if result != None:\n",
    "            return result\n",
    "        code[i] = (op, val)\n",
    "    return None"
   ]
  },
  {
   "cell_type": "code",
   "execution_count": 6,
   "metadata": {},
   "outputs": [
    {
     "data": {
      "text/plain": [
       "True"
      ]
     },
     "execution_count": 6,
     "metadata": {},
     "output_type": "execute_result"
    }
   ],
   "source": [
    "# Test part 2\n",
    "decorrupt(read_file(\"test01.txt\")) == 8"
   ]
  },
  {
   "cell_type": "code",
   "execution_count": 7,
   "metadata": {},
   "outputs": [
    {
     "data": {
      "text/plain": [
       "1403"
      ]
     },
     "execution_count": 7,
     "metadata": {},
     "output_type": "execute_result"
    }
   ],
   "source": [
    "# Solve part 2\n",
    "decorrupt(read_file(\"input.txt\"))"
   ]
  }
 ],
 "metadata": {
  "kernelspec": {
   "display_name": "Python 3",
   "language": "python",
   "name": "python3"
  },
  "language_info": {
   "codemirror_mode": {
    "name": "ipython",
    "version": 3
   },
   "file_extension": ".py",
   "mimetype": "text/x-python",
   "name": "python",
   "nbconvert_exporter": "python",
   "pygments_lexer": "ipython3",
   "version": "3.7.3"
  }
 },
 "nbformat": 4,
 "nbformat_minor": 2
}
