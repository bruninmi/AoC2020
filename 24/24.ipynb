{
 "cells": [
  {
   "cell_type": "code",
   "execution_count": 1,
   "metadata": {
    "collapsed": true
   },
   "outputs": [],
   "source": [
    "# Imports & read file\n",
    "import time\n",
    "import itertools\n",
    "\n",
    "def read_file(filename):\n",
    "    with open(filename) as infile:\n",
    "        return [line.strip() for line in infile.readlines()]\n",
    "    return None"
   ]
  },
  {
   "cell_type": "code",
   "execution_count": 2,
   "metadata": {
    "collapsed": true
   },
   "outputs": [],
   "source": [
    "# Part 1\n",
    "def identify(moves):\n",
    "    x, y = 0, 0\n",
    "    dirs = list(moves)\n",
    "    while dirs:\n",
    "        d = dirs.pop(0)\n",
    "        if d == 'e':\n",
    "            x += 1\n",
    "        elif d == 'w':\n",
    "            x -= 1\n",
    "        elif d == 'n':\n",
    "            y -= 1\n",
    "            if dirs.pop(0) == 'e':\n",
    "                x += 1\n",
    "        else: #d == 's'\n",
    "            y += 1\n",
    "            if dirs.pop(0) == 'w':\n",
    "                x -= 1\n",
    "    return x, y\n",
    "\n",
    "def tileflipper(tiles):\n",
    "    flipped = set()\n",
    "    for tile in tiles:\n",
    "        t = identify(tile)\n",
    "        if t in flipped:\n",
    "            flipped.discard(t)\n",
    "        else:\n",
    "            flipped.add(t)\n",
    "    return flipped"
   ]
  },
  {
   "cell_type": "code",
   "execution_count": 3,
   "metadata": {},
   "outputs": [
    {
     "name": "stdout",
     "output_type": "stream",
     "text": [
      "True\n"
     ]
    },
    {
     "data": {
      "text/plain": [
       "0.0009996891021728516"
      ]
     },
     "execution_count": 3,
     "metadata": {},
     "output_type": "execute_result"
    }
   ],
   "source": [
    "# Test part 1\n",
    "start = time.time()\n",
    "print(len(tileflipper(read_file(\"test01.txt\"))) == 10)\n",
    "time.time() - start"
   ]
  },
  {
   "cell_type": "code",
   "execution_count": 4,
   "metadata": {},
   "outputs": [
    {
     "name": "stdout",
     "output_type": "stream",
     "text": [
      "300\n"
     ]
    },
    {
     "data": {
      "text/plain": [
       "0.002998828887939453"
      ]
     },
     "execution_count": 4,
     "metadata": {},
     "output_type": "execute_result"
    }
   ],
   "source": [
    "# Solve part 1\n",
    "start = time.time()\n",
    "print(len(tileflipper(read_file(\"input.txt\"))))\n",
    "time.time() - start"
   ]
  },
  {
   "cell_type": "code",
   "execution_count": 5,
   "metadata": {},
   "outputs": [],
   "source": [
    "# Part 2\n",
    "adj = [(0,-1), (1, -1), (-1, 0), (1, 0), (-1, 1), (0, 1)]\n",
    "nbs = {}\n",
    "\n",
    "def nb(x, y):\n",
    "    if (x,y) not in nbs:\n",
    "        nbs[(x,y)] = {(x+dx,y+dy) for (dx,dy) in adj}\n",
    "    return nbs[(x,y)]\n",
    "\n",
    "def life_is_life(lalalalala, n=100):\n",
    "    todo = {t for t in lalalalala} | {k for t in lalalalala for k in nb(*t)}\n",
    "    for _ in range(n):\n",
    "        lalalalala2 = set(lalalalala)\n",
    "        todo2 = set()\n",
    "        for t in todo:\n",
    "            s = len(nb(*t) & lalalalala)\n",
    "            if t in lalalalala and (s == 0 or s > 2):\n",
    "                lalalalala2.discard(t)\n",
    "                todo2.update({t} | nb(*t))\n",
    "            elif t not in lalalalala and (s == 2):\n",
    "                lalalalala2.add(t)\n",
    "                todo2.update({t} | nb(*t))\n",
    "        lalalalala = lalalalala2\n",
    "        todo = todo2\n",
    "    return lalalalala\n",
    "    "
   ]
  },
  {
   "cell_type": "code",
   "execution_count": 6,
   "metadata": {},
   "outputs": [
    {
     "name": "stdout",
     "output_type": "stream",
     "text": [
      "True\n"
     ]
    },
    {
     "data": {
      "text/plain": [
       "0.47199344635009766"
      ]
     },
     "execution_count": 6,
     "metadata": {},
     "output_type": "execute_result"
    }
   ],
   "source": [
    "# Test part 2\n",
    "start = time.time()\n",
    "print(len(life_is_life(tileflipper(read_file(\"test01.txt\")))) == 2208)\n",
    "time.time() - start"
   ]
  },
  {
   "cell_type": "code",
   "execution_count": 7,
   "metadata": {
    "scrolled": false
   },
   "outputs": [
    {
     "name": "stdout",
     "output_type": "stream",
     "text": [
      "3466\n"
     ]
    },
    {
     "data": {
      "text/plain": [
       "0.92397141456604"
      ]
     },
     "execution_count": 7,
     "metadata": {},
     "output_type": "execute_result"
    }
   ],
   "source": [
    "# Solve part 2\n",
    "start = time.time()\n",
    "print(len(life_is_life(tileflipper(read_file(\"input.txt\")))))\n",
    "time.time() - start"
   ]
  }
 ],
 "metadata": {
  "kernelspec": {
   "display_name": "Python 3",
   "language": "python",
   "name": "python3"
  },
  "language_info": {
   "codemirror_mode": {
    "name": "ipython",
    "version": 3
   },
   "file_extension": ".py",
   "mimetype": "text/x-python",
   "name": "python",
   "nbconvert_exporter": "python",
   "pygments_lexer": "ipython3",
   "version": "3.6.2"
  }
 },
 "nbformat": 4,
 "nbformat_minor": 2
}
