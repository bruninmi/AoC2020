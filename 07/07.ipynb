{
 "cells": [
  {
   "cell_type": "code",
   "execution_count": 1,
   "metadata": {},
   "outputs": [],
   "source": [
    "# Read file\n",
    "import itertools\n",
    "import re\n",
    "\n",
    "is_num = re.compile(r\"^\\d+$\")\n",
    "\n",
    "def read_file(filename):\n",
    "    with open(filename) as infile:\n",
    "        lines = [line.strip().split() for line in infile.readlines()]\n",
    "        bags = {}\n",
    "        for line in lines:\n",
    "            bag = ' '.join(line[:2])\n",
    "            i = 4\n",
    "            contents = {}\n",
    "            while i < len(line) and is_num.match(line[i]):\n",
    "                contents[' '.join(line[i+1:i+3])] = int(line[i])\n",
    "                i += 4\n",
    "            bags[bag] = contents\n",
    "    return bags"
   ]
  },
  {
   "cell_type": "code",
   "execution_count": 2,
   "metadata": {},
   "outputs": [],
   "source": [
    "# Part 1\n",
    "def contains_shiny_gold(bags, bag, memo=None):\n",
    "    if memo == None:\n",
    "        memo = {}\n",
    "    if bag in memo:\n",
    "        return memo[bag]\n",
    "    if 'shiny gold' in bags[bag]:\n",
    "        memo[bag] = True\n",
    "        return True\n",
    "    for inner in bags[bag]:\n",
    "        if contains_shiny_gold(bags, inner, memo):\n",
    "            memo[bag] = True\n",
    "            return True\n",
    "    memo[bag] = False\n",
    "    return False"
   ]
  },
  {
   "cell_type": "code",
   "execution_count": 3,
   "metadata": {},
   "outputs": [
    {
     "data": {
      "text/plain": [
       "True"
      ]
     },
     "execution_count": 3,
     "metadata": {},
     "output_type": "execute_result"
    }
   ],
   "source": [
    "# Test part 1\n",
    "bags = read_file(\"test01.txt\")\n",
    "sum([contains_shiny_gold(bags, bag) for bag in bags]) == 4"
   ]
  },
  {
   "cell_type": "code",
   "execution_count": 4,
   "metadata": {},
   "outputs": [
    {
     "data": {
      "text/plain": [
       "226"
      ]
     },
     "execution_count": 4,
     "metadata": {},
     "output_type": "execute_result"
    }
   ],
   "source": [
    "# Solve part 1\n",
    "bags = read_file(\"input.txt\")\n",
    "sum([contains_shiny_gold(bags, bag) for bag in bags])"
   ]
  },
  {
   "cell_type": "code",
   "execution_count": 5,
   "metadata": {
    "collapsed": true
   },
   "outputs": [],
   "source": [
    "# Part 2\n",
    "def count_inner_bags(bags, bag, memo=None):\n",
    "    if memo == None:\n",
    "        memo = {}\n",
    "    if bag in memo:\n",
    "        return memo[bag]\n",
    "    count = 0\n",
    "    for inner in bags[bag]:\n",
    "        count += count_inner_bags(bags, inner, memo) * bags[bag][inner] + bags[bag][inner]\n",
    "    memo[bag] = count\n",
    "    return count"
   ]
  },
  {
   "cell_type": "code",
   "execution_count": 6,
   "metadata": {},
   "outputs": [
    {
     "data": {
      "text/plain": [
       "True"
      ]
     },
     "execution_count": 6,
     "metadata": {},
     "output_type": "execute_result"
    }
   ],
   "source": [
    "# Test part 2\n",
    "count_inner_bags(read_file(\"test01.txt\"), 'shiny gold') == 32 and \\\n",
    "count_inner_bags(read_file(\"test02.txt\"), 'shiny gold') == 126"
   ]
  },
  {
   "cell_type": "code",
   "execution_count": 7,
   "metadata": {},
   "outputs": [
    {
     "data": {
      "text/plain": [
       "9569"
      ]
     },
     "execution_count": 7,
     "metadata": {},
     "output_type": "execute_result"
    }
   ],
   "source": [
    "# Solve part 2\n",
    "count_inner_bags(read_file(\"input.txt\"), 'shiny gold')"
   ]
  }
 ],
 "metadata": {
  "kernelspec": {
   "display_name": "Python 3",
   "language": "python",
   "name": "python3"
  },
  "language_info": {
   "codemirror_mode": {
    "name": "ipython",
    "version": 3
   },
   "file_extension": ".py",
   "mimetype": "text/x-python",
   "name": "python",
   "nbconvert_exporter": "python",
   "pygments_lexer": "ipython3",
   "version": "3.6.2"
  }
 },
 "nbformat": 4,
 "nbformat_minor": 2
}
