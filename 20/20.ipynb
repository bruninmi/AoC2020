{
 "cells": [
  {
   "cell_type": "code",
   "execution_count": 1,
   "metadata": {
    "collapsed": true
   },
   "outputs": [],
   "source": [
    "# Imports & read file\n",
    "import time\n",
    "import itertools\n",
    "import re\n",
    "\n",
    "def read_file(filename):\n",
    "    with open(filename) as infile:\n",
    "        return [list(g) for k, g in itertools.groupby([line.strip() for line in infile.readlines()], lambda x: bool(x)) if k]\n",
    "    return None"
   ]
  },
  {
   "cell_type": "code",
   "execution_count": 2,
   "metadata": {},
   "outputs": [],
   "source": [
    "# Part 1\n",
    "def rotations(tile):\n",
    "    yield tile\n",
    "    for _ in range(3):\n",
    "        tile = [''.join(tile[len(tile)-1-c][r] for c in range(len(tile))) for r in range(len(tile))]\n",
    "        yield tile\n",
    "        \n",
    "def flip(tile):\n",
    "    yield tile\n",
    "    yield list(reversed(tile))\n",
    "    \n",
    "def orientations(tile):\n",
    "    return [f for r in rotations(tile) for f in flip(r)]\n",
    "\n",
    "def all_orientations(tiles):\n",
    "    return {int(tile[0][5:-1]): orientations(tile[1:]) for tile in tiles}\n",
    "\n",
    "def top(tile):\n",
    "    return tile[0]\n",
    "\n",
    "def bottom(tile):\n",
    "    return tile[-1]\n",
    "\n",
    "def left(tile):\n",
    "    return ''.join(t[0] for t in tile)\n",
    "\n",
    "def right(tile):\n",
    "    return ''.join(t[-1] for t in tile)\n",
    "\n",
    "def mult_corners(tiles):\n",
    "    sides = {}\n",
    "    for t in tiles:\n",
    "        for o in tiles[t]:\n",
    "            sides[top(o)] = sides.get(top(o), []) + [t]\n",
    "    uniques = {s: sides[s][0] for s in sides if len(sides[s]) == 1}\n",
    "    tiles_wu = {}\n",
    "    for u in uniques:\n",
    "        tiles_wu[uniques[u]] = tiles_wu.get(uniques[u], 0) + 1\n",
    "    A, B, C, D = [t for t in tiles_wu if tiles_wu[t] == 4]\n",
    "    return A * B * C * D"
   ]
  },
  {
   "cell_type": "code",
   "execution_count": 3,
   "metadata": {},
   "outputs": [
    {
     "name": "stdout",
     "output_type": "stream",
     "text": [
      "True\n"
     ]
    },
    {
     "data": {
      "text/plain": [
       "0.0009999275207519531"
      ]
     },
     "execution_count": 3,
     "metadata": {},
     "output_type": "execute_result"
    }
   ],
   "source": [
    "# Test part 1\n",
    "start = time.time()\n",
    "print(mult_corners(all_orientations(read_file(\"test01.txt\"))) == 20899048083289)\n",
    "time.time() - start"
   ]
  },
  {
   "cell_type": "code",
   "execution_count": 4,
   "metadata": {},
   "outputs": [
    {
     "name": "stdout",
     "output_type": "stream",
     "text": [
      "14129524957217\n"
     ]
    },
    {
     "data": {
      "text/plain": [
       "0.022996902465820312"
      ]
     },
     "execution_count": 4,
     "metadata": {},
     "output_type": "execute_result"
    }
   ],
   "source": [
    "# Solve part 1\n",
    "start = time.time()\n",
    "print(mult_corners(all_orientations(read_file(\"input.txt\"))))\n",
    "time.time() - start"
   ]
  },
  {
   "cell_type": "code",
   "execution_count": 5,
   "metadata": {},
   "outputs": [],
   "source": [
    "# Part 2\n",
    "def compose(tiles):\n",
    "    # Sort tiles into corner/edge/middle pieces\n",
    "    sides = {}\n",
    "    for t in tiles:\n",
    "        for o in tiles[t]:\n",
    "            sides[top(o)] = sides.get(top(o), []) + [t]\n",
    "    nbs = {t: set() for t in tiles}\n",
    "    for share in sides.values():\n",
    "        if len(share) == 2:\n",
    "            nbs[share[0]].add(share[1])\n",
    "            nbs[share[1]].add(share[0])\n",
    "    corners = set(t for t in nbs if len(nbs[t]) == 2)\n",
    "    edges = set(t for t in nbs if len(nbs[t]) == 3)\n",
    "    middle = set(t for t in nbs if len(nbs[t]) == 4)\n",
    "    levels = {0: corners, 1: edges, 2: middle}\n",
    "    \n",
    "    # Which tile goes where?\n",
    "    size = int(len(tiles)**0.5)\n",
    "    picture = [[None for _ in range(size)] for _ in range(size)]\n",
    "    used = set()\n",
    "    for row in range(size):\n",
    "        for col in range(size):\n",
    "            level = 2\n",
    "            if row == 0 or row == size - 1:\n",
    "                level -= 1\n",
    "            if col == 0 or col == size - 1:\n",
    "                level -= 1\n",
    "            match = set()\n",
    "            if row > 0:\n",
    "                match.add(picture[row - 1][col])\n",
    "            if col > 0:\n",
    "                match.add(picture[row][col - 1])\n",
    "            for tile in levels[level] - used:\n",
    "                if len(nbs[tile] & match) == len(match):\n",
    "                    picture[row][col] = tile\n",
    "                    used.add(tile)\n",
    "                    break\n",
    "    \n",
    "    # Rotate tiles to fit appropriately\n",
    "    outside = {side for side in sides if len(sides[side]) == 1}\n",
    "    for row in range(size):\n",
    "        for col in range(size):\n",
    "            N = outside if row == 0 else {bottom(picture[row - 1][col])}\n",
    "            S = outside if row == size - 1 else {side for side in sides if picture[row][col] in sides[side] and picture[row+1][col] in sides[side]}\n",
    "            W = outside if col == 0 else {right(picture[row][col - 1])}\n",
    "            E = outside if col == size - 1 else {side for side in sides if picture[row][col] in sides[side] and picture[row][col+1] in sides[side]}\n",
    "            for tile in tiles[picture[row][col]]:\n",
    "                if top(tile) in N and bottom(tile) in S and left(tile) in W and right(tile) in E:\n",
    "                    picture[row][col] = tile\n",
    "                    break\n",
    "    return [\"\".join(picture[row][col][line][1:-1] for col in range(size)) for row in range(size) for line in range(1,9)]\n",
    "\n",
    "def find_snek(picture):\n",
    "    snek = re.compile(r\"(?=([^|]{{18}}#[^|].{{{0}}}#[^|]{{4}}##[^|]{{4}}##[^|]{{4}}###.{{{0}}}[^|]#[^|]{{2}}#[^|]{{2}}#[^|]{{2}}#[^|]{{2}}#[^|]{{2}}#[^|]{{3}}))\".format(len(picture)-19))\n",
    "    sea = \"|\".join(picture)\n",
    "    return len(snek.findall(sea))\n",
    "\n",
    "def roughness(picture):\n",
    "    c = ''.join(picture).count('#')\n",
    "    return c - 15 * max(find_snek(o) for o in orientations(picture))"
   ]
  },
  {
   "cell_type": "code",
   "execution_count": 6,
   "metadata": {},
   "outputs": [
    {
     "name": "stdout",
     "output_type": "stream",
     "text": [
      "True\n"
     ]
    },
    {
     "data": {
      "text/plain": [
       "0.0019969940185546875"
      ]
     },
     "execution_count": 6,
     "metadata": {},
     "output_type": "execute_result"
    }
   ],
   "source": [
    "# Test part 2\n",
    "start = time.time()\n",
    "print(roughness(compose(all_orientations(read_file(\"test01.txt\")))) == 273)\n",
    "time.time() - start"
   ]
  },
  {
   "cell_type": "code",
   "execution_count": 7,
   "metadata": {},
   "outputs": [
    {
     "name": "stdout",
     "output_type": "stream",
     "text": [
      "1649\n"
     ]
    },
    {
     "data": {
      "text/plain": [
       "0.05098772048950195"
      ]
     },
     "execution_count": 7,
     "metadata": {},
     "output_type": "execute_result"
    }
   ],
   "source": [
    "# Solve part 2\n",
    "start = time.time()\n",
    "print(roughness(compose(all_orientations(read_file(\"input.txt\")))))\n",
    "time.time() - start"
   ]
  }
 ],
 "metadata": {
  "kernelspec": {
   "display_name": "Python 3",
   "language": "python",
   "name": "python3"
  },
  "language_info": {
   "codemirror_mode": {
    "name": "ipython",
    "version": 3
   },
   "file_extension": ".py",
   "mimetype": "text/x-python",
   "name": "python",
   "nbconvert_exporter": "python",
   "pygments_lexer": "ipython3",
   "version": "3.6.2"
  }
 },
 "nbformat": 4,
 "nbformat_minor": 2
}
