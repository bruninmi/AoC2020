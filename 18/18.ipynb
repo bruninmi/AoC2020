{
 "cells": [
  {
   "cell_type": "code",
   "execution_count": 1,
   "metadata": {},
   "outputs": [],
   "source": [
    "# Imports & read file\n",
    "import time\n",
    "import itertools\n",
    "\n",
    "def read_file(filename):\n",
    "    with open(filename) as infile:\n",
    "        lines = [list(\"\".join(line.strip().split())) for line in infile.readlines()]\n",
    "    return lines"
   ]
  },
  {
   "cell_type": "code",
   "execution_count": 2,
   "metadata": {},
   "outputs": [],
   "source": [
    "# Part 1\n",
    "def evaluate(expression):\n",
    "    nopars = []\n",
    "    i = 0\n",
    "    while i < len(expression):\n",
    "        if expression[i] == '(':\n",
    "            depth = 1\n",
    "            start = i\n",
    "            i += 1\n",
    "            while i < len(expression):\n",
    "                if expression[i] == '(':\n",
    "                    depth += 1\n",
    "                elif expression[i] == ')':\n",
    "                    depth -= 1\n",
    "                    if depth == 0:\n",
    "                        break\n",
    "                i += 1\n",
    "            nopars.append(evaluate(expression[start + 1:i]))\n",
    "        else:\n",
    "            nopars.append(expression[i])\n",
    "        i += 1\n",
    "        \n",
    "    val = int(nopars.pop(0))\n",
    "    while nopars:\n",
    "        if nopars.pop(0) == '+':\n",
    "            val += int(nopars.pop(0))\n",
    "        else:\n",
    "            val *= int(nopars.pop(0))\n",
    "    return val"
   ]
  },
  {
   "cell_type": "code",
   "execution_count": 3,
   "metadata": {},
   "outputs": [
    {
     "name": "stdout",
     "output_type": "stream",
     "text": [
      "True\n"
     ]
    },
    {
     "data": {
      "text/plain": [
       "0.0"
      ]
     },
     "execution_count": 3,
     "metadata": {},
     "output_type": "execute_result"
    }
   ],
   "source": [
    "# Test part 1\n",
    "start = time.time()\n",
    "print([evaluate(e) for e in read_file(\"test01.txt\")] == [71, 51, 26, 437, 12240, 13632])\n",
    "time.time() - start"
   ]
  },
  {
   "cell_type": "code",
   "execution_count": 4,
   "metadata": {},
   "outputs": [
    {
     "name": "stdout",
     "output_type": "stream",
     "text": [
      "75592527415659\n"
     ]
    },
    {
     "data": {
      "text/plain": [
       "0.0156252384185791"
      ]
     },
     "execution_count": 4,
     "metadata": {},
     "output_type": "execute_result"
    }
   ],
   "source": [
    "# Solve part 1\n",
    "start = time.time()\n",
    "print(sum(evaluate(e) for e in read_file(\"input.txt\")))\n",
    "time.time() - start"
   ]
  },
  {
   "cell_type": "code",
   "execution_count": 5,
   "metadata": {},
   "outputs": [],
   "source": [
    "# Part 2\n",
    "def evaluate2(expression):\n",
    "    nopars = []\n",
    "    i = 0\n",
    "    while i < len(expression):\n",
    "        if expression[i] == '(':\n",
    "            depth = 1\n",
    "            start = i\n",
    "            i += 1\n",
    "            while i < len(expression):\n",
    "                if expression[i] == '(':\n",
    "                    depth += 1\n",
    "                elif expression[i] == ')':\n",
    "                    depth -= 1\n",
    "                    if depth == 0:\n",
    "                        break\n",
    "                i += 1\n",
    "            nopars.append(evaluate2(expression[start + 1:i]))\n",
    "        elif expression[i] == '*':\n",
    "            nopars.append('*')\n",
    "            nopars.append(evaluate2(expression[i+1:]))\n",
    "            break\n",
    "        else:\n",
    "            nopars.append(expression[i])\n",
    "        i += 1\n",
    "        \n",
    "    val = int(nopars.pop(0))\n",
    "    while nopars:\n",
    "        if nopars.pop(0) == '+':\n",
    "            val += int(nopars.pop(0))\n",
    "        else:\n",
    "            val *= int(nopars.pop(0))\n",
    "    return val"
   ]
  },
  {
   "cell_type": "code",
   "execution_count": 6,
   "metadata": {},
   "outputs": [
    {
     "name": "stdout",
     "output_type": "stream",
     "text": [
      "True\n"
     ]
    },
    {
     "data": {
      "text/plain": [
       "0.0"
      ]
     },
     "execution_count": 6,
     "metadata": {},
     "output_type": "execute_result"
    }
   ],
   "source": [
    "# Test part 2\n",
    "start = time.time()\n",
    "print([evaluate2(e) for e in read_file(\"test01.txt\")] == [231, 51, 46, 1445, 669060, 23340])\n",
    "time.time() - start"
   ]
  },
  {
   "cell_type": "code",
   "execution_count": 7,
   "metadata": {},
   "outputs": [
    {
     "name": "stdout",
     "output_type": "stream",
     "text": [
      "360029542265462\n"
     ]
    },
    {
     "data": {
      "text/plain": [
       "0.01565861701965332"
      ]
     },
     "execution_count": 7,
     "metadata": {},
     "output_type": "execute_result"
    }
   ],
   "source": [
    "# Solve part 2\n",
    "start = time.time()\n",
    "print(sum(evaluate2(e) for e in read_file(\"input.txt\")))\n",
    "time.time() - start"
   ]
  }
 ],
 "metadata": {
  "kernelspec": {
   "display_name": "Python 3",
   "language": "python",
   "name": "python3"
  },
  "language_info": {
   "codemirror_mode": {
    "name": "ipython",
    "version": 3
   },
   "file_extension": ".py",
   "mimetype": "text/x-python",
   "name": "python",
   "nbconvert_exporter": "python",
   "pygments_lexer": "ipython3",
   "version": "3.7.3"
  }
 },
 "nbformat": 4,
 "nbformat_minor": 2
}
